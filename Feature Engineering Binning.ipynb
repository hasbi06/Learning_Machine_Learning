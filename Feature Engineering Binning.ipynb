{
 "cells": [
  {
   "cell_type": "markdown",
   "id": "18c050cd",
   "metadata": {},
   "source": [
    "mengubah data dalam bentuk numerikal menjadi data kategorikal/interval\n",
    "\n",
    "terdapat 2 metode dalam binning, yaitu :\n",
    "1. Equal Interval Binning  = membagi binnig dengan interval yang sama (jumlah tiap bin tidak sama,ditentukan dalam pengelompokan)\n",
    "2. Equal Frequensi Binning = membagi binning dengan frequensi yang sama (jumlah tiap bin sama)"
   ]
  },
  {
   "cell_type": "code",
   "execution_count": 1,
   "id": "aaa29d35",
   "metadata": {},
   "outputs": [],
   "source": [
    " import pandas as pd\n",
    "import numpy as np\n",
    "import seaborn as sns\n",
    "import matplotlib.pyplot as plt\n",
    "\n",
    "# Preprocessing   \n",
    "from sklearn.model_selection import train_test_split\n",
    "from sklearn.preprocessing import OneHotEncoder\n",
    "from sklearn.compose import ColumnTransformer # melakukan transformasi (fit transform = transformer)\n",
    "import category_encoders as ce\n",
    "from sklearn.impute import SimpleImputer\n",
    "from sklearn.pipeline import Pipeline\n",
    "\n",
    "# Model\n",
    "from sklearn.tree import DecisionTreeClassifier\n",
    "from sklearn.linear_model import LogisticRegression\n",
    "from sklearn.metrics import accuracy_score\n",
    "from sklearn.feature_selection import SelectPercentile\n",
    "\n",
    "# Utilities\n",
    "import warnings\n",
    "warnings.filterwarnings(\"ignore\")\n",
    "from sklearn.utils.testing import ignore_warnings"
   ]
  },
  {
   "cell_type": "code",
   "execution_count": 2,
   "id": "8f3ecec4",
   "metadata": {},
   "outputs": [
    {
     "data": {
      "text/html": [
       "<div>\n",
       "<style scoped>\n",
       "    .dataframe tbody tr th:only-of-type {\n",
       "        vertical-align: middle;\n",
       "    }\n",
       "\n",
       "    .dataframe tbody tr th {\n",
       "        vertical-align: top;\n",
       "    }\n",
       "\n",
       "    .dataframe thead th {\n",
       "        text-align: right;\n",
       "    }\n",
       "</style>\n",
       "<table border=\"1\" class=\"dataframe\">\n",
       "  <thead>\n",
       "    <tr style=\"text-align: right;\">\n",
       "      <th></th>\n",
       "      <th>total_bill</th>\n",
       "      <th>tip</th>\n",
       "      <th>sex</th>\n",
       "      <th>smoker</th>\n",
       "      <th>day</th>\n",
       "      <th>time</th>\n",
       "      <th>size</th>\n",
       "    </tr>\n",
       "  </thead>\n",
       "  <tbody>\n",
       "    <tr>\n",
       "      <th>0</th>\n",
       "      <td>16.99</td>\n",
       "      <td>1.01</td>\n",
       "      <td>Female</td>\n",
       "      <td>No</td>\n",
       "      <td>Sun</td>\n",
       "      <td>Dinner</td>\n",
       "      <td>2</td>\n",
       "    </tr>\n",
       "    <tr>\n",
       "      <th>1</th>\n",
       "      <td>10.34</td>\n",
       "      <td>1.66</td>\n",
       "      <td>Male</td>\n",
       "      <td>No</td>\n",
       "      <td>Sun</td>\n",
       "      <td>Dinner</td>\n",
       "      <td>3</td>\n",
       "    </tr>\n",
       "    <tr>\n",
       "      <th>2</th>\n",
       "      <td>21.01</td>\n",
       "      <td>3.50</td>\n",
       "      <td>Male</td>\n",
       "      <td>No</td>\n",
       "      <td>Sun</td>\n",
       "      <td>Dinner</td>\n",
       "      <td>3</td>\n",
       "    </tr>\n",
       "    <tr>\n",
       "      <th>3</th>\n",
       "      <td>23.68</td>\n",
       "      <td>3.31</td>\n",
       "      <td>Male</td>\n",
       "      <td>No</td>\n",
       "      <td>Sun</td>\n",
       "      <td>Dinner</td>\n",
       "      <td>2</td>\n",
       "    </tr>\n",
       "    <tr>\n",
       "      <th>4</th>\n",
       "      <td>24.59</td>\n",
       "      <td>3.61</td>\n",
       "      <td>Female</td>\n",
       "      <td>No</td>\n",
       "      <td>Sun</td>\n",
       "      <td>Dinner</td>\n",
       "      <td>4</td>\n",
       "    </tr>\n",
       "    <tr>\n",
       "      <th>...</th>\n",
       "      <td>...</td>\n",
       "      <td>...</td>\n",
       "      <td>...</td>\n",
       "      <td>...</td>\n",
       "      <td>...</td>\n",
       "      <td>...</td>\n",
       "      <td>...</td>\n",
       "    </tr>\n",
       "    <tr>\n",
       "      <th>239</th>\n",
       "      <td>29.03</td>\n",
       "      <td>5.92</td>\n",
       "      <td>Male</td>\n",
       "      <td>No</td>\n",
       "      <td>Sat</td>\n",
       "      <td>Dinner</td>\n",
       "      <td>3</td>\n",
       "    </tr>\n",
       "    <tr>\n",
       "      <th>240</th>\n",
       "      <td>27.18</td>\n",
       "      <td>2.00</td>\n",
       "      <td>Female</td>\n",
       "      <td>Yes</td>\n",
       "      <td>Sat</td>\n",
       "      <td>Dinner</td>\n",
       "      <td>2</td>\n",
       "    </tr>\n",
       "    <tr>\n",
       "      <th>241</th>\n",
       "      <td>22.67</td>\n",
       "      <td>2.00</td>\n",
       "      <td>Male</td>\n",
       "      <td>Yes</td>\n",
       "      <td>Sat</td>\n",
       "      <td>Dinner</td>\n",
       "      <td>2</td>\n",
       "    </tr>\n",
       "    <tr>\n",
       "      <th>242</th>\n",
       "      <td>17.82</td>\n",
       "      <td>1.75</td>\n",
       "      <td>Male</td>\n",
       "      <td>No</td>\n",
       "      <td>Sat</td>\n",
       "      <td>Dinner</td>\n",
       "      <td>2</td>\n",
       "    </tr>\n",
       "    <tr>\n",
       "      <th>243</th>\n",
       "      <td>18.78</td>\n",
       "      <td>3.00</td>\n",
       "      <td>Female</td>\n",
       "      <td>No</td>\n",
       "      <td>Thur</td>\n",
       "      <td>Dinner</td>\n",
       "      <td>2</td>\n",
       "    </tr>\n",
       "  </tbody>\n",
       "</table>\n",
       "<p>244 rows × 7 columns</p>\n",
       "</div>"
      ],
      "text/plain": [
       "     total_bill   tip     sex smoker   day    time  size\n",
       "0         16.99  1.01  Female     No   Sun  Dinner     2\n",
       "1         10.34  1.66    Male     No   Sun  Dinner     3\n",
       "2         21.01  3.50    Male     No   Sun  Dinner     3\n",
       "3         23.68  3.31    Male     No   Sun  Dinner     2\n",
       "4         24.59  3.61  Female     No   Sun  Dinner     4\n",
       "..          ...   ...     ...    ...   ...     ...   ...\n",
       "239       29.03  5.92    Male     No   Sat  Dinner     3\n",
       "240       27.18  2.00  Female    Yes   Sat  Dinner     2\n",
       "241       22.67  2.00    Male    Yes   Sat  Dinner     2\n",
       "242       17.82  1.75    Male     No   Sat  Dinner     2\n",
       "243       18.78  3.00  Female     No  Thur  Dinner     2\n",
       "\n",
       "[244 rows x 7 columns]"
      ]
     },
     "execution_count": 2,
     "metadata": {},
     "output_type": "execute_result"
    }
   ],
   "source": [
    "tips = sns.load_dataset('tips')\n",
    "tips"
   ]
  },
  {
   "cell_type": "code",
   "execution_count": 3,
   "id": "529f8cca",
   "metadata": {},
   "outputs": [
    {
     "data": {
      "text/plain": [
       "<AxesSubplot:xlabel='total_bill', ylabel='Density'>"
      ]
     },
     "execution_count": 3,
     "metadata": {},
     "output_type": "execute_result"
    },
    {
     "data": {
      "image/png": "[encoded data removed]",
      "text/plain": [
       "<Figure size 432x288 with 1 Axes>"
      ]
     },
     "metadata": {
      "needs_background": "light"
     },
     "output_type": "display_data"
    }
   ],
   "source": [
    "sns.distplot(tips['total_bill'],bins=20)"
   ]
  },
  {
   "cell_type": "markdown",
   "id": "d9bc4eea",
   "metadata": {},
   "source": [
    "persebaran data cenderung tidak normal, right skew"
   ]
  },
  {
   "cell_type": "code",
   "execution_count": 28,
   "id": "9b97b6b1",
   "metadata": {},
   "outputs": [],
   "source": [
    "tips['total_bill eqfreq']=pd.qcut(tips['total_bill'],5) # Dibagi 5 bin\n",
    "tips['total_bill eqfreq encode']=pd.qcut(tips['total_bill'],5,labels=range(1,6))"
   ]
  },
  {
   "cell_type": "code",
   "execution_count": 5,
   "id": "38c688af",
   "metadata": {},
   "outputs": [],
   "source": [
    "tips['total_bill eqint']=pd.cut(tips['total_bill'],5) # Dibagi 5 bin\n",
    "tips['total_bill eqint encode']=pd.cut(tips['total_bill'],5,labels=range(1,6))"
   ]
  },
  {
   "cell_type": "code",
   "execution_count": 29,
   "id": "fc1d7380",
   "metadata": {},
   "outputs": [
    {
     "data": {
      "text/html": [
       "<div>\n",
       "<style scoped>\n",
       "    .dataframe tbody tr th:only-of-type {\n",
       "        vertical-align: middle;\n",
       "    }\n",
       "\n",
       "    .dataframe tbody tr th {\n",
       "        vertical-align: top;\n",
       "    }\n",
       "\n",
       "    .dataframe thead th {\n",
       "        text-align: right;\n",
       "    }\n",
       "</style>\n",
       "<table border=\"1\" class=\"dataframe\">\n",
       "  <thead>\n",
       "    <tr style=\"text-align: right;\">\n",
       "      <th></th>\n",
       "      <th>total_bill eqfreq</th>\n",
       "      <th>total_bill eqfreq encode</th>\n",
       "      <th>total_bill eqint</th>\n",
       "      <th>total_bill eqint encode</th>\n",
       "    </tr>\n",
       "  </thead>\n",
       "  <tbody>\n",
       "    <tr>\n",
       "      <th>0</th>\n",
       "      <td>(16.222, 19.818]</td>\n",
       "      <td>3</td>\n",
       "      <td>(12.618, 22.166]</td>\n",
       "      <td>2</td>\n",
       "    </tr>\n",
       "    <tr>\n",
       "      <th>1</th>\n",
       "      <td>(3.069, 12.636]</td>\n",
       "      <td>1</td>\n",
       "      <td>(3.022, 12.618]</td>\n",
       "      <td>1</td>\n",
       "    </tr>\n",
       "    <tr>\n",
       "      <th>2</th>\n",
       "      <td>(19.818, 26.098]</td>\n",
       "      <td>4</td>\n",
       "      <td>(12.618, 22.166]</td>\n",
       "      <td>2</td>\n",
       "    </tr>\n",
       "    <tr>\n",
       "      <th>3</th>\n",
       "      <td>(19.818, 26.098]</td>\n",
       "      <td>4</td>\n",
       "      <td>(22.166, 31.714]</td>\n",
       "      <td>3</td>\n",
       "    </tr>\n",
       "    <tr>\n",
       "      <th>4</th>\n",
       "      <td>(19.818, 26.098]</td>\n",
       "      <td>4</td>\n",
       "      <td>(22.166, 31.714]</td>\n",
       "      <td>3</td>\n",
       "    </tr>\n",
       "    <tr>\n",
       "      <th>...</th>\n",
       "      <td>...</td>\n",
       "      <td>...</td>\n",
       "      <td>...</td>\n",
       "      <td>...</td>\n",
       "    </tr>\n",
       "    <tr>\n",
       "      <th>239</th>\n",
       "      <td>(26.098, 50.81]</td>\n",
       "      <td>5</td>\n",
       "      <td>(22.166, 31.714]</td>\n",
       "      <td>3</td>\n",
       "    </tr>\n",
       "    <tr>\n",
       "      <th>240</th>\n",
       "      <td>(26.098, 50.81]</td>\n",
       "      <td>5</td>\n",
       "      <td>(22.166, 31.714]</td>\n",
       "      <td>3</td>\n",
       "    </tr>\n",
       "    <tr>\n",
       "      <th>241</th>\n",
       "      <td>(19.818, 26.098]</td>\n",
       "      <td>4</td>\n",
       "      <td>(22.166, 31.714]</td>\n",
       "      <td>3</td>\n",
       "    </tr>\n",
       "    <tr>\n",
       "      <th>242</th>\n",
       "      <td>(16.222, 19.818]</td>\n",
       "      <td>3</td>\n",
       "      <td>(12.618, 22.166]</td>\n",
       "      <td>2</td>\n",
       "    </tr>\n",
       "    <tr>\n",
       "      <th>243</th>\n",
       "      <td>(16.222, 19.818]</td>\n",
       "      <td>3</td>\n",
       "      <td>(12.618, 22.166]</td>\n",
       "      <td>2</td>\n",
       "    </tr>\n",
       "  </tbody>\n",
       "</table>\n",
       "<p>244 rows × 4 columns</p>\n",
       "</div>"
      ],
      "text/plain": [
       "    total_bill eqfreq total_bill eqfreq encode  total_bill eqint  \\\n",
       "0    (16.222, 19.818]                        3  (12.618, 22.166]   \n",
       "1     (3.069, 12.636]                        1   (3.022, 12.618]   \n",
       "2    (19.818, 26.098]                        4  (12.618, 22.166]   \n",
       "3    (19.818, 26.098]                        4  (22.166, 31.714]   \n",
       "4    (19.818, 26.098]                        4  (22.166, 31.714]   \n",
       "..                ...                      ...               ...   \n",
       "239   (26.098, 50.81]                        5  (22.166, 31.714]   \n",
       "240   (26.098, 50.81]                        5  (22.166, 31.714]   \n",
       "241  (19.818, 26.098]                        4  (22.166, 31.714]   \n",
       "242  (16.222, 19.818]                        3  (12.618, 22.166]   \n",
       "243  (16.222, 19.818]                        3  (12.618, 22.166]   \n",
       "\n",
       "    total_bill eqint encode  \n",
       "0                         2  \n",
       "1                         1  \n",
       "2                         2  \n",
       "3                         3  \n",
       "4                         3  \n",
       "..                      ...  \n",
       "239                       3  \n",
       "240                       3  \n",
       "241                       3  \n",
       "242                       2  \n",
       "243                       2  \n",
       "\n",
       "[244 rows x 4 columns]"
      ]
     },
     "execution_count": 29,
     "metadata": {},
     "output_type": "execute_result"
    }
   ],
   "source": [
    "tips[['total_bill eqfreq','total_bill eqfreq encode','total_bill eqint','total_bill eqint encode']]"
   ]
  },
  {
   "cell_type": "markdown",
   "id": "68ae3684",
   "metadata": {},
   "source": [
    "### Jika ingin merubah label"
   ]
  },
  {
   "cell_type": "code",
   "execution_count": 31,
   "id": "83ce29fe",
   "metadata": {},
   "outputs": [],
   "source": [
    "tips['total_bill eqfreq']=pd.qcut(tips['total_bill'],5,labels=['very low','low','medium','high','very high']) # Dibagi 5 bin\n",
    "tips['total_bill eqfreq encode']=pd.qcut(tips['total_bill'],5,labels=range(1,6))"
   ]
  },
  {
   "cell_type": "code",
   "execution_count": 32,
   "id": "43bc54ba",
   "metadata": {},
   "outputs": [
    {
     "data": {
      "text/html": [
       "<div>\n",
       "<style scoped>\n",
       "    .dataframe tbody tr th:only-of-type {\n",
       "        vertical-align: middle;\n",
       "    }\n",
       "\n",
       "    .dataframe tbody tr th {\n",
       "        vertical-align: top;\n",
       "    }\n",
       "\n",
       "    .dataframe thead th {\n",
       "        text-align: right;\n",
       "    }\n",
       "</style>\n",
       "<table border=\"1\" class=\"dataframe\">\n",
       "  <thead>\n",
       "    <tr style=\"text-align: right;\">\n",
       "      <th></th>\n",
       "      <th>total_bill eqfreq</th>\n",
       "      <th>total_bill eqfreq encode</th>\n",
       "      <th>total_bill eqint</th>\n",
       "      <th>total_bill eqint encode</th>\n",
       "    </tr>\n",
       "  </thead>\n",
       "  <tbody>\n",
       "    <tr>\n",
       "      <th>0</th>\n",
       "      <td>medium</td>\n",
       "      <td>3</td>\n",
       "      <td>(12.618, 22.166]</td>\n",
       "      <td>2</td>\n",
       "    </tr>\n",
       "    <tr>\n",
       "      <th>1</th>\n",
       "      <td>very low</td>\n",
       "      <td>1</td>\n",
       "      <td>(3.022, 12.618]</td>\n",
       "      <td>1</td>\n",
       "    </tr>\n",
       "    <tr>\n",
       "      <th>2</th>\n",
       "      <td>high</td>\n",
       "      <td>4</td>\n",
       "      <td>(12.618, 22.166]</td>\n",
       "      <td>2</td>\n",
       "    </tr>\n",
       "    <tr>\n",
       "      <th>3</th>\n",
       "      <td>high</td>\n",
       "      <td>4</td>\n",
       "      <td>(22.166, 31.714]</td>\n",
       "      <td>3</td>\n",
       "    </tr>\n",
       "    <tr>\n",
       "      <th>4</th>\n",
       "      <td>high</td>\n",
       "      <td>4</td>\n",
       "      <td>(22.166, 31.714]</td>\n",
       "      <td>3</td>\n",
       "    </tr>\n",
       "    <tr>\n",
       "      <th>...</th>\n",
       "      <td>...</td>\n",
       "      <td>...</td>\n",
       "      <td>...</td>\n",
       "      <td>...</td>\n",
       "    </tr>\n",
       "    <tr>\n",
       "      <th>239</th>\n",
       "      <td>very high</td>\n",
       "      <td>5</td>\n",
       "      <td>(22.166, 31.714]</td>\n",
       "      <td>3</td>\n",
       "    </tr>\n",
       "    <tr>\n",
       "      <th>240</th>\n",
       "      <td>very high</td>\n",
       "      <td>5</td>\n",
       "      <td>(22.166, 31.714]</td>\n",
       "      <td>3</td>\n",
       "    </tr>\n",
       "    <tr>\n",
       "      <th>241</th>\n",
       "      <td>high</td>\n",
       "      <td>4</td>\n",
       "      <td>(22.166, 31.714]</td>\n",
       "      <td>3</td>\n",
       "    </tr>\n",
       "    <tr>\n",
       "      <th>242</th>\n",
       "      <td>medium</td>\n",
       "      <td>3</td>\n",
       "      <td>(12.618, 22.166]</td>\n",
       "      <td>2</td>\n",
       "    </tr>\n",
       "    <tr>\n",
       "      <th>243</th>\n",
       "      <td>medium</td>\n",
       "      <td>3</td>\n",
       "      <td>(12.618, 22.166]</td>\n",
       "      <td>2</td>\n",
       "    </tr>\n",
       "  </tbody>\n",
       "</table>\n",
       "<p>244 rows × 4 columns</p>\n",
       "</div>"
      ],
      "text/plain": [
       "    total_bill eqfreq total_bill eqfreq encode  total_bill eqint  \\\n",
       "0              medium                        3  (12.618, 22.166]   \n",
       "1            very low                        1   (3.022, 12.618]   \n",
       "2                high                        4  (12.618, 22.166]   \n",
       "3                high                        4  (22.166, 31.714]   \n",
       "4                high                        4  (22.166, 31.714]   \n",
       "..                ...                      ...               ...   \n",
       "239         very high                        5  (22.166, 31.714]   \n",
       "240         very high                        5  (22.166, 31.714]   \n",
       "241              high                        4  (22.166, 31.714]   \n",
       "242            medium                        3  (12.618, 22.166]   \n",
       "243            medium                        3  (12.618, 22.166]   \n",
       "\n",
       "    total_bill eqint encode  \n",
       "0                         2  \n",
       "1                         1  \n",
       "2                         2  \n",
       "3                         3  \n",
       "4                         3  \n",
       "..                      ...  \n",
       "239                       3  \n",
       "240                       3  \n",
       "241                       3  \n",
       "242                       2  \n",
       "243                       2  \n",
       "\n",
       "[244 rows x 4 columns]"
      ]
     },
     "execution_count": 32,
     "metadata": {},
     "output_type": "execute_result"
    }
   ],
   "source": [
    "tips[['total_bill eqfreq','total_bill eqfreq encode','total_bill eqint','total_bill eqint encode']]"
   ]
  },
  {
   "cell_type": "code",
   "execution_count": 7,
   "id": "cb58f4dc",
   "metadata": {},
   "outputs": [
    {
     "data": {
      "text/plain": [
       "(26.098, 50.81]     49\n",
       "(19.818, 26.098]    49\n",
       "(12.636, 16.222]    49\n",
       "(3.069, 12.636]     49\n",
       "(16.222, 19.818]    48\n",
       "Name: total_bill eqfreq, dtype: int64"
      ]
     },
     "execution_count": 7,
     "metadata": {},
     "output_type": "execute_result"
    }
   ],
   "source": [
    "tips['total_bill eqfreq'].value_counts()"
   ]
  },
  {
   "cell_type": "markdown",
   "id": "5235afe8",
   "metadata": {},
   "source": [
    "pada binning equal frekuensi terlihat jumlah data pada tiap kelompok sama"
   ]
  },
  {
   "cell_type": "code",
   "execution_count": 8,
   "id": "673e30ac",
   "metadata": {
    "scrolled": true
   },
   "outputs": [
    {
     "data": {
      "text/plain": [
       "(12.618, 22.166]    119\n",
       "(22.166, 31.714]     50\n",
       "(3.022, 12.618]      49\n",
       "(31.714, 41.262]     19\n",
       "(41.262, 50.81]       7\n",
       "Name: total_bill eqint, dtype: int64"
      ]
     },
     "execution_count": 8,
     "metadata": {},
     "output_type": "execute_result"
    }
   ],
   "source": [
    "tips['total_bill eqint'].value_counts()"
   ]
  },
  {
   "cell_type": "markdown",
   "id": "32b9a1b3",
   "metadata": {},
   "source": [
    "pada binning equal interval terlihat jumlah data pada tiap kelompok tidak sama, tetapi jarak antar interval sama, untuk lebih jelasnya dapat divisualisasikan sebagai berikut :"
   ]
  },
  {
   "cell_type": "markdown",
   "id": "26623d65",
   "metadata": {},
   "source": [
    "## Equal Frequency"
   ]
  },
  {
   "cell_type": "code",
   "execution_count": 9,
   "id": "df56f445",
   "metadata": {},
   "outputs": [
    {
     "data": {
      "text/html": [
       "<div>\n",
       "<style scoped>\n",
       "    .dataframe tbody tr th:only-of-type {\n",
       "        vertical-align: middle;\n",
       "    }\n",
       "\n",
       "    .dataframe tbody tr th {\n",
       "        vertical-align: top;\n",
       "    }\n",
       "\n",
       "    .dataframe thead th {\n",
       "        text-align: right;\n",
       "    }\n",
       "</style>\n",
       "<table border=\"1\" class=\"dataframe\">\n",
       "  <thead>\n",
       "    <tr style=\"text-align: right;\">\n",
       "      <th></th>\n",
       "      <th>freq</th>\n",
       "    </tr>\n",
       "    <tr>\n",
       "      <th>total_bill eqfreq</th>\n",
       "      <th></th>\n",
       "    </tr>\n",
       "  </thead>\n",
       "  <tbody>\n",
       "    <tr>\n",
       "      <th>(3.069, 12.636]</th>\n",
       "      <td>49.0</td>\n",
       "    </tr>\n",
       "    <tr>\n",
       "      <th>(12.636, 16.222]</th>\n",
       "      <td>49.0</td>\n",
       "    </tr>\n",
       "    <tr>\n",
       "      <th>(16.222, 19.818]</th>\n",
       "      <td>48.0</td>\n",
       "    </tr>\n",
       "    <tr>\n",
       "      <th>(19.818, 26.098]</th>\n",
       "      <td>49.0</td>\n",
       "    </tr>\n",
       "    <tr>\n",
       "      <th>(26.098, 50.81]</th>\n",
       "      <td>49.0</td>\n",
       "    </tr>\n",
       "  </tbody>\n",
       "</table>\n",
       "</div>"
      ],
      "text/plain": [
       "                   freq\n",
       "total_bill eqfreq      \n",
       "(3.069, 12.636]    49.0\n",
       "(12.636, 16.222]   49.0\n",
       "(16.222, 19.818]   48.0\n",
       "(19.818, 26.098]   49.0\n",
       "(26.098, 50.81]    49.0"
      ]
     },
     "execution_count": 9,
     "metadata": {},
     "output_type": "execute_result"
    }
   ],
   "source": [
    "eqfreq = tips.pivot_table(\n",
    "    index='total_bill eqfreq',\n",
    "    aggfunc=len,\n",
    "    values='tip')\n",
    "eqfreq.columns=['freq']\n",
    "eqfreq"
   ]
  },
  {
   "cell_type": "code",
   "execution_count": 10,
   "id": "61e5c438",
   "metadata": {},
   "outputs": [
    {
     "data": {
      "image/png": "[encoded data removed]",
      "text/plain": [
       "<Figure size 432x288 with 1 Axes>"
      ]
     },
     "metadata": {
      "needs_background": "light"
     },
     "output_type": "display_data"
    }
   ],
   "source": [
    "for i,j in zip(range(1,6),[10,5,5,5,15]):\n",
    "    sns.distplot(tips[tips['total_bill eqfreq encode']==i]['total_bill'],kde=False,bins=j)"
   ]
  },
  {
   "cell_type": "markdown",
   "id": "dfb2bfd3",
   "metadata": {},
   "source": [
    "## Equal Interval"
   ]
  },
  {
   "cell_type": "code",
   "execution_count": 11,
   "id": "2e2756c8",
   "metadata": {},
   "outputs": [
    {
     "data": {
      "text/html": [
       "<div>\n",
       "<style scoped>\n",
       "    .dataframe tbody tr th:only-of-type {\n",
       "        vertical-align: middle;\n",
       "    }\n",
       "\n",
       "    .dataframe tbody tr th {\n",
       "        vertical-align: top;\n",
       "    }\n",
       "\n",
       "    .dataframe thead th {\n",
       "        text-align: right;\n",
       "    }\n",
       "</style>\n",
       "<table border=\"1\" class=\"dataframe\">\n",
       "  <thead>\n",
       "    <tr style=\"text-align: right;\">\n",
       "      <th></th>\n",
       "      <th>freq</th>\n",
       "    </tr>\n",
       "    <tr>\n",
       "      <th>total_bill eqint</th>\n",
       "      <th></th>\n",
       "    </tr>\n",
       "  </thead>\n",
       "  <tbody>\n",
       "    <tr>\n",
       "      <th>(3.022, 12.618]</th>\n",
       "      <td>49.0</td>\n",
       "    </tr>\n",
       "    <tr>\n",
       "      <th>(12.618, 22.166]</th>\n",
       "      <td>119.0</td>\n",
       "    </tr>\n",
       "    <tr>\n",
       "      <th>(22.166, 31.714]</th>\n",
       "      <td>50.0</td>\n",
       "    </tr>\n",
       "    <tr>\n",
       "      <th>(31.714, 41.262]</th>\n",
       "      <td>19.0</td>\n",
       "    </tr>\n",
       "    <tr>\n",
       "      <th>(41.262, 50.81]</th>\n",
       "      <td>7.0</td>\n",
       "    </tr>\n",
       "  </tbody>\n",
       "</table>\n",
       "</div>"
      ],
      "text/plain": [
       "                   freq\n",
       "total_bill eqint       \n",
       "(3.022, 12.618]    49.0\n",
       "(12.618, 22.166]  119.0\n",
       "(22.166, 31.714]   50.0\n",
       "(31.714, 41.262]   19.0\n",
       "(41.262, 50.81]     7.0"
      ]
     },
     "execution_count": 11,
     "metadata": {},
     "output_type": "execute_result"
    }
   ],
   "source": [
    "eqfreq = tips.pivot_table(\n",
    "    index='total_bill eqint',\n",
    "    aggfunc=len,\n",
    "    values='tip')\n",
    "eqfreq.columns=['freq']\n",
    "eqfreq"
   ]
  },
  {
   "cell_type": "code",
   "execution_count": 12,
   "id": "af359b71",
   "metadata": {},
   "outputs": [
    {
     "data": {
      "image/png": "[encoded data removed]",
      "text/plain": [
       "<Figure size 432x288 with 1 Axes>"
      ]
     },
     "metadata": {
      "needs_background": "light"
     },
     "output_type": "display_data"
    }
   ],
   "source": [
    "for i in range(1,6):\n",
    "    sns.distplot(tips[tips['total_bill eqint encode']==i]['total_bill'],kde=False)"
   ]
  },
  {
   "cell_type": "code",
   "execution_count": 13,
   "id": "2c0f3779",
   "metadata": {},
   "outputs": [],
   "source": [
    "from sklearn.preprocessing import KBinsDiscretizer"
   ]
  },
  {
   "cell_type": "code",
   "execution_count": 14,
   "id": "574f8069",
   "metadata": {},
   "outputs": [
    {
     "data": {
      "text/html": [
       "<div>\n",
       "<style scoped>\n",
       "    .dataframe tbody tr th:only-of-type {\n",
       "        vertical-align: middle;\n",
       "    }\n",
       "\n",
       "    .dataframe tbody tr th {\n",
       "        vertical-align: top;\n",
       "    }\n",
       "\n",
       "    .dataframe thead th {\n",
       "        text-align: right;\n",
       "    }\n",
       "</style>\n",
       "<table border=\"1\" class=\"dataframe\">\n",
       "  <thead>\n",
       "    <tr style=\"text-align: right;\">\n",
       "      <th></th>\n",
       "      <th>x</th>\n",
       "      <th>class</th>\n",
       "    </tr>\n",
       "  </thead>\n",
       "  <tbody>\n",
       "    <tr>\n",
       "      <th>0</th>\n",
       "      <td>51</td>\n",
       "      <td>0</td>\n",
       "    </tr>\n",
       "    <tr>\n",
       "      <th>1</th>\n",
       "      <td>19</td>\n",
       "      <td>1</td>\n",
       "    </tr>\n",
       "    <tr>\n",
       "      <th>2</th>\n",
       "      <td>66</td>\n",
       "      <td>1</td>\n",
       "    </tr>\n",
       "    <tr>\n",
       "      <th>3</th>\n",
       "      <td>35</td>\n",
       "      <td>0</td>\n",
       "    </tr>\n",
       "    <tr>\n",
       "      <th>4</th>\n",
       "      <td>64</td>\n",
       "      <td>1</td>\n",
       "    </tr>\n",
       "    <tr>\n",
       "      <th>...</th>\n",
       "      <td>...</td>\n",
       "      <td>...</td>\n",
       "    </tr>\n",
       "    <tr>\n",
       "      <th>1524</th>\n",
       "      <td>58</td>\n",
       "      <td>1</td>\n",
       "    </tr>\n",
       "    <tr>\n",
       "      <th>1525</th>\n",
       "      <td>64</td>\n",
       "      <td>1</td>\n",
       "    </tr>\n",
       "    <tr>\n",
       "      <th>1526</th>\n",
       "      <td>47</td>\n",
       "      <td>0</td>\n",
       "    </tr>\n",
       "    <tr>\n",
       "      <th>1527</th>\n",
       "      <td>26</td>\n",
       "      <td>1</td>\n",
       "    </tr>\n",
       "    <tr>\n",
       "      <th>1528</th>\n",
       "      <td>33</td>\n",
       "      <td>0</td>\n",
       "    </tr>\n",
       "  </tbody>\n",
       "</table>\n",
       "<p>1529 rows × 2 columns</p>\n",
       "</div>"
      ],
      "text/plain": [
       "       x  class\n",
       "0     51      0\n",
       "1     19      1\n",
       "2     66      1\n",
       "3     35      0\n",
       "4     64      1\n",
       "...   ..    ...\n",
       "1524  58      1\n",
       "1525  64      1\n",
       "1526  47      0\n",
       "1527  26      1\n",
       "1528  33      0\n",
       "\n",
       "[1529 rows x 2 columns]"
      ]
     },
     "execution_count": 14,
     "metadata": {},
     "output_type": "execute_result"
    }
   ],
   "source": [
    "disk = pd.read_csv('disk.csv')\n",
    "disk"
   ]
  },
  {
   "cell_type": "code",
   "execution_count": 15,
   "id": "8d5c7641",
   "metadata": {},
   "outputs": [
    {
     "data": {
      "text/plain": [
       "1    0.005186\n",
       "0    0.004814\n",
       "Name: class, dtype: float64"
      ]
     },
     "execution_count": 15,
     "metadata": {},
     "output_type": "execute_result"
    }
   ],
   "source": [
    "disk['class'].value_counts()/disk.shape[0]/100 # proporsi hampir sama pada class 0 dan 1"
   ]
  },
  {
   "cell_type": "markdown",
   "id": "dcb4715d",
   "metadata": {},
   "source": [
    "kita dapat melakukan binning langsung pada variabel X, jika jumlah tidak sama harus dilakukan binning per kelas"
   ]
  },
  {
   "cell_type": "code",
   "execution_count": 16,
   "id": "bd845a66",
   "metadata": {},
   "outputs": [],
   "source": [
    "disk['x eqint']=pd.cut(disk['x'],7) # membagi x dengan interval 7 tiap binnya\n",
    "disk['x eqitv encode']=pd.cut(disk['x'],7,labels=range(1,8))"
   ]
  },
  {
   "cell_type": "code",
   "execution_count": 17,
   "id": "96d2380f",
   "metadata": {},
   "outputs": [
    {
     "data": {
      "text/html": [
       "<div>\n",
       "<style scoped>\n",
       "    .dataframe tbody tr th:only-of-type {\n",
       "        vertical-align: middle;\n",
       "    }\n",
       "\n",
       "    .dataframe tbody tr th {\n",
       "        vertical-align: top;\n",
       "    }\n",
       "\n",
       "    .dataframe thead th {\n",
       "        text-align: right;\n",
       "    }\n",
       "</style>\n",
       "<table border=\"1\" class=\"dataframe\">\n",
       "  <thead>\n",
       "    <tr style=\"text-align: right;\">\n",
       "      <th></th>\n",
       "      <th>x</th>\n",
       "      <th>class</th>\n",
       "      <th>x eqint</th>\n",
       "      <th>x eqitv encode</th>\n",
       "    </tr>\n",
       "  </thead>\n",
       "  <tbody>\n",
       "    <tr>\n",
       "      <th>0</th>\n",
       "      <td>51</td>\n",
       "      <td>0</td>\n",
       "      <td>(46.0, 53.0]</td>\n",
       "      <td>5</td>\n",
       "    </tr>\n",
       "    <tr>\n",
       "      <th>1</th>\n",
       "      <td>19</td>\n",
       "      <td>1</td>\n",
       "      <td>(17.951, 25.0]</td>\n",
       "      <td>1</td>\n",
       "    </tr>\n",
       "    <tr>\n",
       "      <th>2</th>\n",
       "      <td>66</td>\n",
       "      <td>1</td>\n",
       "      <td>(60.0, 67.0]</td>\n",
       "      <td>7</td>\n",
       "    </tr>\n",
       "    <tr>\n",
       "      <th>3</th>\n",
       "      <td>35</td>\n",
       "      <td>0</td>\n",
       "      <td>(32.0, 39.0]</td>\n",
       "      <td>3</td>\n",
       "    </tr>\n",
       "    <tr>\n",
       "      <th>4</th>\n",
       "      <td>64</td>\n",
       "      <td>1</td>\n",
       "      <td>(60.0, 67.0]</td>\n",
       "      <td>7</td>\n",
       "    </tr>\n",
       "  </tbody>\n",
       "</table>\n",
       "</div>"
      ],
      "text/plain": [
       "    x  class         x eqint x eqitv encode\n",
       "0  51      0    (46.0, 53.0]              5\n",
       "1  19      1  (17.951, 25.0]              1\n",
       "2  66      1    (60.0, 67.0]              7\n",
       "3  35      0    (32.0, 39.0]              3\n",
       "4  64      1    (60.0, 67.0]              7"
      ]
     },
     "execution_count": 17,
     "metadata": {},
     "output_type": "execute_result"
    }
   ],
   "source": [
    "disk.head()"
   ]
  },
  {
   "cell_type": "code",
   "execution_count": 18,
   "id": "95b1c7a0",
   "metadata": {},
   "outputs": [
    {
     "data": {
      "text/html": [
       "<div>\n",
       "<style scoped>\n",
       "    .dataframe tbody tr th:only-of-type {\n",
       "        vertical-align: middle;\n",
       "    }\n",
       "\n",
       "    .dataframe tbody tr th {\n",
       "        vertical-align: top;\n",
       "    }\n",
       "\n",
       "    .dataframe thead th {\n",
       "        text-align: right;\n",
       "    }\n",
       "</style>\n",
       "<table border=\"1\" class=\"dataframe\">\n",
       "  <thead>\n",
       "    <tr style=\"text-align: right;\">\n",
       "      <th>class</th>\n",
       "      <th>0</th>\n",
       "      <th>1</th>\n",
       "    </tr>\n",
       "    <tr>\n",
       "      <th>x eqint</th>\n",
       "      <th></th>\n",
       "      <th></th>\n",
       "    </tr>\n",
       "  </thead>\n",
       "  <tbody>\n",
       "    <tr>\n",
       "      <th>(17.951, 25.0]</th>\n",
       "      <td>0.224670</td>\n",
       "      <td>0.775330</td>\n",
       "    </tr>\n",
       "    <tr>\n",
       "      <th>(25.0, 32.0]</th>\n",
       "      <td>0.537037</td>\n",
       "      <td>0.462963</td>\n",
       "    </tr>\n",
       "    <tr>\n",
       "      <th>(32.0, 39.0]</th>\n",
       "      <td>0.835616</td>\n",
       "      <td>0.164384</td>\n",
       "    </tr>\n",
       "    <tr>\n",
       "      <th>(39.0, 46.0]</th>\n",
       "      <td>0.846561</td>\n",
       "      <td>0.153439</td>\n",
       "    </tr>\n",
       "    <tr>\n",
       "      <th>(46.0, 53.0]</th>\n",
       "      <td>0.583673</td>\n",
       "      <td>0.416327</td>\n",
       "    </tr>\n",
       "    <tr>\n",
       "      <th>(53.0, 60.0]</th>\n",
       "      <td>0.302632</td>\n",
       "      <td>0.697368</td>\n",
       "    </tr>\n",
       "    <tr>\n",
       "      <th>(60.0, 67.0]</th>\n",
       "      <td>0.068293</td>\n",
       "      <td>0.931707</td>\n",
       "    </tr>\n",
       "  </tbody>\n",
       "</table>\n",
       "</div>"
      ],
      "text/plain": [
       "class                  0         1\n",
       "x eqint                           \n",
       "(17.951, 25.0]  0.224670  0.775330\n",
       "(25.0, 32.0]    0.537037  0.462963\n",
       "(32.0, 39.0]    0.835616  0.164384\n",
       "(39.0, 46.0]    0.846561  0.153439\n",
       "(46.0, 53.0]    0.583673  0.416327\n",
       "(53.0, 60.0]    0.302632  0.697368\n",
       "(60.0, 67.0]    0.068293  0.931707"
      ]
     },
     "execution_count": 18,
     "metadata": {},
     "output_type": "execute_result"
    }
   ],
   "source": [
    "pd.crosstab(disk['x eqint'],disk['class'],normalize=0) # proporsi kelas 0 dan 1 pada setiap interval"
   ]
  },
  {
   "cell_type": "code",
   "execution_count": 19,
   "id": "13c5f2a6",
   "metadata": {},
   "outputs": [
    {
     "data": {
      "text/plain": [
       "<AxesSubplot:xlabel='x eqint'>"
      ]
     },
     "execution_count": 19,
     "metadata": {},
     "output_type": "execute_result"
    },
    {
     "data": {
      "image/png": "[encoded data removed]",
      "text/plain": [
       "<Figure size 432x288 with 1 Axes>"
      ]
     },
     "metadata": {
      "needs_background": "light"
     },
     "output_type": "display_data"
    }
   ],
   "source": [
    "pd.crosstab(disk['x eqint'],disk['class'],normalize=0).plot(kind='bar',stacked=True)"
   ]
  },
  {
   "cell_type": "markdown",
   "id": "adf31ae4",
   "metadata": {},
   "source": [
    "setalah feature x dibagi sebanyak 7 kelas, terlihat ada pola dimana :\n",
    "* proporsi kelas 1 menurun sampai dengan interval ke 4 kemudian naik sampai interval terakhir, menunjukan terdapa hubungan non linear dari X terhadap class"
   ]
  },
  {
   "cell_type": "markdown",
   "id": "14a29586",
   "metadata": {},
   "source": [
    "## Modelling without Binning"
   ]
  },
  {
   "cell_type": "markdown",
   "id": "52bc6130",
   "metadata": {},
   "source": [
    "### Data Splitting"
   ]
  },
  {
   "cell_type": "code",
   "execution_count": 20,
   "id": "460ea19e",
   "metadata": {},
   "outputs": [],
   "source": [
    "X = disk[['x']]\n",
    "y = disk[['class']]"
   ]
  },
  {
   "cell_type": "code",
   "execution_count": 21,
   "id": "71e54279",
   "metadata": {},
   "outputs": [],
   "source": [
    "X_train,X_test,y_train,y_test = train_test_split (X,y,\n",
    "                                                 stratify=y,\n",
    "                                                 random_state=2020)"
   ]
  },
  {
   "cell_type": "code",
   "execution_count": 22,
   "id": "ad9da52e",
   "metadata": {},
   "outputs": [
    {
     "data": {
      "text/plain": [
       "LogisticRegression()"
      ]
     },
     "execution_count": 22,
     "metadata": {},
     "output_type": "execute_result"
    }
   ],
   "source": [
    "log = LogisticRegression()\n",
    "log.fit(X_train,y_train)"
   ]
  },
  {
   "cell_type": "code",
   "execution_count": 23,
   "id": "6e547a1a",
   "metadata": {},
   "outputs": [
    {
     "name": "stdout",
     "output_type": "stream",
     "text": [
      "akurasi skor sebelum binning= 0.5822454308093995\n"
     ]
    }
   ],
   "source": [
    "y_pred = log.predict(X_test)\n",
    "print('akurasi skor sebelum binning=',accuracy_score(y_test,y_pred))"
   ]
  },
  {
   "cell_type": "markdown",
   "id": "6d0f1617",
   "metadata": {},
   "source": [
    "## Modelling with Binning"
   ]
  },
  {
   "cell_type": "code",
   "execution_count": 24,
   "id": "a93433d8",
   "metadata": {},
   "outputs": [],
   "source": [
    "discretize = KBinsDiscretizer()\n",
    "discretize.fit(X_train)\n",
    "X_train_disc = discretize.transform(X_train)\n",
    "X_test_disc = discretize.transform(X_test)"
   ]
  },
  {
   "cell_type": "code",
   "execution_count": 25,
   "id": "52c93ef7",
   "metadata": {},
   "outputs": [
    {
     "name": "stdout",
     "output_type": "stream",
     "text": [
      "akurasi skor sebelum binning= 0.6997389033942559\n"
     ]
    }
   ],
   "source": [
    "log = LogisticRegression()\n",
    "log.fit(X_train_disc,y_train)\n",
    "y_pred = log.predict(X_test_disc)\n",
    "print('akurasi skor sebelum binning=',accuracy_score(y_test,y_pred))"
   ]
  },
  {
   "cell_type": "markdown",
   "id": "cf8a1b99",
   "metadata": {},
   "source": [
    "akurasi model setelah dilakukan binning meningkat dari 58.22 % menjadi 69.97 %"
   ]
  }
 ],
 "metadata": {
  "kernelspec": {
   "display_name": "Python 3",
   "language": "python",
   "name": "python3"
  },
  "language_info": {
   "codemirror_mode": {
    "name": "ipython",
    "version": 3
   },
   "file_extension": ".py",
   "mimetype": "text/x-python",
   "name": "python",
   "nbconvert_exporter": "python",
   "pygments_lexer": "ipython3",
   "version": "3.7.10"
  }
 },
 "nbformat": 4,
 "nbformat_minor": 5
}
