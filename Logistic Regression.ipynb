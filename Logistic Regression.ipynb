{
 "cells": [
  {
   "cell_type": "code",
   "execution_count": 1,
   "id": "19c995dc",
   "metadata": {},
   "outputs": [],
   "source": [
    "import pandas as pd\n",
    "import numpy as np\n",
    "import seaborn as sns\n",
    "import matplotlib.pyplot as plt\n",
    "\n",
    "import statsmodels.api as sm\n",
    "\n",
    "import warnings\n",
    "warnings.filterwarnings(\"ignore\")\n",
    "from sklearn.utils.testing import ignore_warnings"
   ]
  },
  {
   "cell_type": "markdown",
   "id": "8663a0bd",
   "metadata": {},
   "source": [
    "* Problem = Melakukan prediksi apakah customer baru memiliki resiko gagal bayar\n",
    "* prediction = kemungkinan seseorang gagal bayar\n",
    "* Data yang diperlukan = data demografis, data transaksi, income, dll\n",
    "* Tujuan = memaksimalkan keuntungan dari pemberian pinjaman \n",
    "* action = tidak memberikan pinjaman pada orang yang berpotensi gagal bayar\n",
    "* value = peningkatan profit dan menghindari resiko"
   ]
  },
  {
   "cell_type": "code",
   "execution_count": 2,
   "id": "2c02bfda",
   "metadata": {},
   "outputs": [
    {
     "data": {
      "text/html": [
       "<div>\n",
       "<style scoped>\n",
       "    .dataframe tbody tr th:only-of-type {\n",
       "        vertical-align: middle;\n",
       "    }\n",
       "\n",
       "    .dataframe tbody tr th {\n",
       "        vertical-align: top;\n",
       "    }\n",
       "\n",
       "    .dataframe thead th {\n",
       "        text-align: right;\n",
       "    }\n",
       "</style>\n",
       "<table border=\"1\" class=\"dataframe\">\n",
       "  <thead>\n",
       "    <tr style=\"text-align: right;\">\n",
       "      <th></th>\n",
       "      <th>age</th>\n",
       "      <th>ed</th>\n",
       "      <th>employ</th>\n",
       "      <th>address</th>\n",
       "      <th>income</th>\n",
       "      <th>debtinc</th>\n",
       "      <th>creddebt</th>\n",
       "      <th>othdebt</th>\n",
       "      <th>default</th>\n",
       "    </tr>\n",
       "  </thead>\n",
       "  <tbody>\n",
       "    <tr>\n",
       "      <th>0</th>\n",
       "      <td>41</td>\n",
       "      <td>3</td>\n",
       "      <td>17</td>\n",
       "      <td>12</td>\n",
       "      <td>176</td>\n",
       "      <td>9.3</td>\n",
       "      <td>11.359392</td>\n",
       "      <td>5.008608</td>\n",
       "      <td>1</td>\n",
       "    </tr>\n",
       "    <tr>\n",
       "      <th>1</th>\n",
       "      <td>27</td>\n",
       "      <td>1</td>\n",
       "      <td>10</td>\n",
       "      <td>6</td>\n",
       "      <td>31</td>\n",
       "      <td>17.3</td>\n",
       "      <td>1.362202</td>\n",
       "      <td>4.000798</td>\n",
       "      <td>0</td>\n",
       "    </tr>\n",
       "    <tr>\n",
       "      <th>2</th>\n",
       "      <td>40</td>\n",
       "      <td>1</td>\n",
       "      <td>15</td>\n",
       "      <td>14</td>\n",
       "      <td>55</td>\n",
       "      <td>5.5</td>\n",
       "      <td>0.856075</td>\n",
       "      <td>2.168925</td>\n",
       "      <td>0</td>\n",
       "    </tr>\n",
       "    <tr>\n",
       "      <th>3</th>\n",
       "      <td>41</td>\n",
       "      <td>1</td>\n",
       "      <td>15</td>\n",
       "      <td>14</td>\n",
       "      <td>120</td>\n",
       "      <td>2.9</td>\n",
       "      <td>2.658720</td>\n",
       "      <td>0.821280</td>\n",
       "      <td>0</td>\n",
       "    </tr>\n",
       "    <tr>\n",
       "      <th>4</th>\n",
       "      <td>24</td>\n",
       "      <td>2</td>\n",
       "      <td>2</td>\n",
       "      <td>0</td>\n",
       "      <td>28</td>\n",
       "      <td>17.3</td>\n",
       "      <td>1.787436</td>\n",
       "      <td>3.056564</td>\n",
       "      <td>1</td>\n",
       "    </tr>\n",
       "    <tr>\n",
       "      <th>...</th>\n",
       "      <td>...</td>\n",
       "      <td>...</td>\n",
       "      <td>...</td>\n",
       "      <td>...</td>\n",
       "      <td>...</td>\n",
       "      <td>...</td>\n",
       "      <td>...</td>\n",
       "      <td>...</td>\n",
       "      <td>...</td>\n",
       "    </tr>\n",
       "    <tr>\n",
       "      <th>695</th>\n",
       "      <td>36</td>\n",
       "      <td>2</td>\n",
       "      <td>6</td>\n",
       "      <td>15</td>\n",
       "      <td>27</td>\n",
       "      <td>4.6</td>\n",
       "      <td>0.262062</td>\n",
       "      <td>0.979938</td>\n",
       "      <td>1</td>\n",
       "    </tr>\n",
       "    <tr>\n",
       "      <th>696</th>\n",
       "      <td>29</td>\n",
       "      <td>2</td>\n",
       "      <td>6</td>\n",
       "      <td>4</td>\n",
       "      <td>21</td>\n",
       "      <td>11.5</td>\n",
       "      <td>0.369495</td>\n",
       "      <td>2.045505</td>\n",
       "      <td>0</td>\n",
       "    </tr>\n",
       "    <tr>\n",
       "      <th>697</th>\n",
       "      <td>33</td>\n",
       "      <td>1</td>\n",
       "      <td>15</td>\n",
       "      <td>3</td>\n",
       "      <td>32</td>\n",
       "      <td>7.6</td>\n",
       "      <td>0.491264</td>\n",
       "      <td>1.940736</td>\n",
       "      <td>0</td>\n",
       "    </tr>\n",
       "    <tr>\n",
       "      <th>698</th>\n",
       "      <td>45</td>\n",
       "      <td>1</td>\n",
       "      <td>19</td>\n",
       "      <td>22</td>\n",
       "      <td>77</td>\n",
       "      <td>8.4</td>\n",
       "      <td>2.302608</td>\n",
       "      <td>4.165392</td>\n",
       "      <td>0</td>\n",
       "    </tr>\n",
       "    <tr>\n",
       "      <th>699</th>\n",
       "      <td>37</td>\n",
       "      <td>1</td>\n",
       "      <td>12</td>\n",
       "      <td>14</td>\n",
       "      <td>44</td>\n",
       "      <td>14.7</td>\n",
       "      <td>2.994684</td>\n",
       "      <td>3.473316</td>\n",
       "      <td>0</td>\n",
       "    </tr>\n",
       "  </tbody>\n",
       "</table>\n",
       "<p>700 rows × 9 columns</p>\n",
       "</div>"
      ],
      "text/plain": [
       "     age  ed  employ  address  income  debtinc   creddebt   othdebt  default\n",
       "0     41   3      17       12     176      9.3  11.359392  5.008608        1\n",
       "1     27   1      10        6      31     17.3   1.362202  4.000798        0\n",
       "2     40   1      15       14      55      5.5   0.856075  2.168925        0\n",
       "3     41   1      15       14     120      2.9   2.658720  0.821280        0\n",
       "4     24   2       2        0      28     17.3   1.787436  3.056564        1\n",
       "..   ...  ..     ...      ...     ...      ...        ...       ...      ...\n",
       "695   36   2       6       15      27      4.6   0.262062  0.979938        1\n",
       "696   29   2       6        4      21     11.5   0.369495  2.045505        0\n",
       "697   33   1      15        3      32      7.6   0.491264  1.940736        0\n",
       "698   45   1      19       22      77      8.4   2.302608  4.165392        0\n",
       "699   37   1      12       14      44     14.7   2.994684  3.473316        0\n",
       "\n",
       "[700 rows x 9 columns]"
      ]
     },
     "execution_count": 2,
     "metadata": {},
     "output_type": "execute_result"
    }
   ],
   "source": [
    "bankloan = pd.read_csv('bankloan.csv')\n",
    "bankloan"
   ]
  },
  {
   "cell_type": "code",
   "execution_count": 3,
   "id": "996d1eb7",
   "metadata": {},
   "outputs": [
    {
     "data": {
      "text/html": [
       "<div>\n",
       "<style scoped>\n",
       "    .dataframe tbody tr th:only-of-type {\n",
       "        vertical-align: middle;\n",
       "    }\n",
       "\n",
       "    .dataframe tbody tr th {\n",
       "        vertical-align: top;\n",
       "    }\n",
       "\n",
       "    .dataframe thead th {\n",
       "        text-align: right;\n",
       "    }\n",
       "</style>\n",
       "<table border=\"1\" class=\"dataframe\">\n",
       "  <thead>\n",
       "    <tr style=\"text-align: right;\">\n",
       "      <th></th>\n",
       "      <th>age</th>\n",
       "      <th>ed</th>\n",
       "      <th>employ</th>\n",
       "      <th>address</th>\n",
       "      <th>income</th>\n",
       "      <th>debtinc</th>\n",
       "      <th>creddebt</th>\n",
       "      <th>othdebt</th>\n",
       "      <th>default</th>\n",
       "    </tr>\n",
       "  </thead>\n",
       "  <tbody>\n",
       "    <tr>\n",
       "      <th>count</th>\n",
       "      <td>700.000000</td>\n",
       "      <td>700.000000</td>\n",
       "      <td>700.000000</td>\n",
       "      <td>700.000000</td>\n",
       "      <td>700.000000</td>\n",
       "      <td>700.000000</td>\n",
       "      <td>700.000000</td>\n",
       "      <td>700.000000</td>\n",
       "      <td>700.000000</td>\n",
       "    </tr>\n",
       "    <tr>\n",
       "      <th>mean</th>\n",
       "      <td>34.860000</td>\n",
       "      <td>1.722857</td>\n",
       "      <td>8.388571</td>\n",
       "      <td>8.278571</td>\n",
       "      <td>45.601429</td>\n",
       "      <td>10.260571</td>\n",
       "      <td>1.553553</td>\n",
       "      <td>3.058209</td>\n",
       "      <td>0.261429</td>\n",
       "    </tr>\n",
       "    <tr>\n",
       "      <th>std</th>\n",
       "      <td>7.997342</td>\n",
       "      <td>0.928206</td>\n",
       "      <td>6.658039</td>\n",
       "      <td>6.824877</td>\n",
       "      <td>36.814226</td>\n",
       "      <td>6.827234</td>\n",
       "      <td>2.117197</td>\n",
       "      <td>3.287555</td>\n",
       "      <td>0.439727</td>\n",
       "    </tr>\n",
       "    <tr>\n",
       "      <th>min</th>\n",
       "      <td>20.000000</td>\n",
       "      <td>1.000000</td>\n",
       "      <td>0.000000</td>\n",
       "      <td>0.000000</td>\n",
       "      <td>14.000000</td>\n",
       "      <td>0.400000</td>\n",
       "      <td>0.011696</td>\n",
       "      <td>0.045584</td>\n",
       "      <td>0.000000</td>\n",
       "    </tr>\n",
       "    <tr>\n",
       "      <th>25%</th>\n",
       "      <td>29.000000</td>\n",
       "      <td>1.000000</td>\n",
       "      <td>3.000000</td>\n",
       "      <td>3.000000</td>\n",
       "      <td>24.000000</td>\n",
       "      <td>5.000000</td>\n",
       "      <td>0.369059</td>\n",
       "      <td>1.044178</td>\n",
       "      <td>0.000000</td>\n",
       "    </tr>\n",
       "    <tr>\n",
       "      <th>50%</th>\n",
       "      <td>34.000000</td>\n",
       "      <td>1.000000</td>\n",
       "      <td>7.000000</td>\n",
       "      <td>7.000000</td>\n",
       "      <td>34.000000</td>\n",
       "      <td>8.600000</td>\n",
       "      <td>0.854869</td>\n",
       "      <td>1.987567</td>\n",
       "      <td>0.000000</td>\n",
       "    </tr>\n",
       "    <tr>\n",
       "      <th>75%</th>\n",
       "      <td>40.000000</td>\n",
       "      <td>2.000000</td>\n",
       "      <td>12.000000</td>\n",
       "      <td>12.000000</td>\n",
       "      <td>55.000000</td>\n",
       "      <td>14.125000</td>\n",
       "      <td>1.901955</td>\n",
       "      <td>3.923065</td>\n",
       "      <td>1.000000</td>\n",
       "    </tr>\n",
       "    <tr>\n",
       "      <th>max</th>\n",
       "      <td>56.000000</td>\n",
       "      <td>5.000000</td>\n",
       "      <td>31.000000</td>\n",
       "      <td>34.000000</td>\n",
       "      <td>446.000000</td>\n",
       "      <td>41.300000</td>\n",
       "      <td>20.561310</td>\n",
       "      <td>27.033600</td>\n",
       "      <td>1.000000</td>\n",
       "    </tr>\n",
       "  </tbody>\n",
       "</table>\n",
       "</div>"
      ],
      "text/plain": [
       "              age          ed      employ     address      income     debtinc  \\\n",
       "count  700.000000  700.000000  700.000000  700.000000  700.000000  700.000000   \n",
       "mean    34.860000    1.722857    8.388571    8.278571   45.601429   10.260571   \n",
       "std      7.997342    0.928206    6.658039    6.824877   36.814226    6.827234   \n",
       "min     20.000000    1.000000    0.000000    0.000000   14.000000    0.400000   \n",
       "25%     29.000000    1.000000    3.000000    3.000000   24.000000    5.000000   \n",
       "50%     34.000000    1.000000    7.000000    7.000000   34.000000    8.600000   \n",
       "75%     40.000000    2.000000   12.000000   12.000000   55.000000   14.125000   \n",
       "max     56.000000    5.000000   31.000000   34.000000  446.000000   41.300000   \n",
       "\n",
       "         creddebt     othdebt     default  \n",
       "count  700.000000  700.000000  700.000000  \n",
       "mean     1.553553    3.058209    0.261429  \n",
       "std      2.117197    3.287555    0.439727  \n",
       "min      0.011696    0.045584    0.000000  \n",
       "25%      0.369059    1.044178    0.000000  \n",
       "50%      0.854869    1.987567    0.000000  \n",
       "75%      1.901955    3.923065    1.000000  \n",
       "max     20.561310   27.033600    1.000000  "
      ]
     },
     "execution_count": 3,
     "metadata": {},
     "output_type": "execute_result"
    }
   ],
   "source": [
    "bankloan.describe()"
   ]
  },
  {
   "cell_type": "code",
   "execution_count": 4,
   "id": "69f3756f",
   "metadata": {},
   "outputs": [],
   "source": [
    "fitur = ['employ','debtinc','creddebt','othdebt']\n",
    "target = 'default'"
   ]
  },
  {
   "cell_type": "code",
   "execution_count": 5,
   "id": "0aa0598e",
   "metadata": {},
   "outputs": [],
   "source": [
    "x = bankloan[fitur]\n",
    "y = bankloan[target]"
   ]
  },
  {
   "cell_type": "code",
   "execution_count": 6,
   "id": "4d84c35b",
   "metadata": {},
   "outputs": [
    {
     "data": {
      "text/html": [
       "<div>\n",
       "<style scoped>\n",
       "    .dataframe tbody tr th:only-of-type {\n",
       "        vertical-align: middle;\n",
       "    }\n",
       "\n",
       "    .dataframe tbody tr th {\n",
       "        vertical-align: top;\n",
       "    }\n",
       "\n",
       "    .dataframe thead th {\n",
       "        text-align: right;\n",
       "    }\n",
       "</style>\n",
       "<table border=\"1\" class=\"dataframe\">\n",
       "  <thead>\n",
       "    <tr style=\"text-align: right;\">\n",
       "      <th></th>\n",
       "      <th>employ</th>\n",
       "      <th>debtinc</th>\n",
       "      <th>creddebt</th>\n",
       "      <th>othdebt</th>\n",
       "    </tr>\n",
       "  </thead>\n",
       "  <tbody>\n",
       "    <tr>\n",
       "      <th>count</th>\n",
       "      <td>700.000000</td>\n",
       "      <td>700.000000</td>\n",
       "      <td>700.000000</td>\n",
       "      <td>700.000000</td>\n",
       "    </tr>\n",
       "    <tr>\n",
       "      <th>mean</th>\n",
       "      <td>8.388571</td>\n",
       "      <td>10.260571</td>\n",
       "      <td>1.553553</td>\n",
       "      <td>3.058209</td>\n",
       "    </tr>\n",
       "    <tr>\n",
       "      <th>std</th>\n",
       "      <td>6.658039</td>\n",
       "      <td>6.827234</td>\n",
       "      <td>2.117197</td>\n",
       "      <td>3.287555</td>\n",
       "    </tr>\n",
       "    <tr>\n",
       "      <th>min</th>\n",
       "      <td>0.000000</td>\n",
       "      <td>0.400000</td>\n",
       "      <td>0.011696</td>\n",
       "      <td>0.045584</td>\n",
       "    </tr>\n",
       "    <tr>\n",
       "      <th>25%</th>\n",
       "      <td>3.000000</td>\n",
       "      <td>5.000000</td>\n",
       "      <td>0.369059</td>\n",
       "      <td>1.044178</td>\n",
       "    </tr>\n",
       "    <tr>\n",
       "      <th>50%</th>\n",
       "      <td>7.000000</td>\n",
       "      <td>8.600000</td>\n",
       "      <td>0.854869</td>\n",
       "      <td>1.987567</td>\n",
       "    </tr>\n",
       "    <tr>\n",
       "      <th>75%</th>\n",
       "      <td>12.000000</td>\n",
       "      <td>14.125000</td>\n",
       "      <td>1.901955</td>\n",
       "      <td>3.923065</td>\n",
       "    </tr>\n",
       "    <tr>\n",
       "      <th>max</th>\n",
       "      <td>31.000000</td>\n",
       "      <td>41.300000</td>\n",
       "      <td>20.561310</td>\n",
       "      <td>27.033600</td>\n",
       "    </tr>\n",
       "  </tbody>\n",
       "</table>\n",
       "</div>"
      ],
      "text/plain": [
       "           employ     debtinc    creddebt     othdebt\n",
       "count  700.000000  700.000000  700.000000  700.000000\n",
       "mean     8.388571   10.260571    1.553553    3.058209\n",
       "std      6.658039    6.827234    2.117197    3.287555\n",
       "min      0.000000    0.400000    0.011696    0.045584\n",
       "25%      3.000000    5.000000    0.369059    1.044178\n",
       "50%      7.000000    8.600000    0.854869    1.987567\n",
       "75%     12.000000   14.125000    1.901955    3.923065\n",
       "max     31.000000   41.300000   20.561310   27.033600"
      ]
     },
     "execution_count": 6,
     "metadata": {},
     "output_type": "execute_result"
    }
   ],
   "source": [
    "x.describe()"
   ]
  },
  {
   "cell_type": "markdown",
   "id": "e771c9e2",
   "metadata": {},
   "source": [
    "Analisa :\n",
    "* Employ   = lama bekerja para customer mulai dari 0 (fresh graduate/tidak pernah bekerja) sampai yang paling lama selama 31 tahun, dengan lama kerja rata rata selama 7 tahun\n",
    "* Debtinc  = rasio antara income dengan cicilan ada yang memiliki rasio paling rendah sebesar 0,4 dan rasio tertinggi 41,3 dengan rata rata rasio pendapatan dan hutang sebesar 8,6\n",
    "* Creddebt = customer memiliki hutang kartu kredit paling kecil sebanyak 0,01 dan paling besar sebesar 20,56, dengan rata rata hutang kartu kredit sebesar 0,85\n",
    "* Othdebt  = Hutang ditempat lain dari customer memiliki rata rata 1,98, dengan hutang terkecil sebesar 0,04 dan hutang terbesar sebesar 27,03\n",
    "\n",
    "overal rata rata customer memiliki hutang yang lebih besar pada othdebt dibandingkan dengan creddebt"
   ]
  },
  {
   "cell_type": "code",
   "execution_count": 7,
   "id": "f050737c",
   "metadata": {},
   "outputs": [
    {
     "name": "stdout",
     "output_type": "stream",
     "text": [
      "Optimization terminated successfully.\n",
      "         Current function value: 0.411165\n",
      "         Iterations 7\n"
     ]
    }
   ],
   "source": [
    "sm_logit = sm.Logit(y, sm.add_constant(x))\n",
    "result = sm_logit.fit()"
   ]
  },
  {
   "cell_type": "code",
   "execution_count": 8,
   "id": "bcf2a009",
   "metadata": {},
   "outputs": [
    {
     "name": "stdout",
     "output_type": "stream",
     "text": [
      "                           Logit Regression Results                           \n",
      "==============================================================================\n",
      "Dep. Variable:                default   No. Observations:                  700\n",
      "Model:                          Logit   Df Residuals:                      695\n",
      "Method:                           MLE   Df Model:                            4\n",
      "Date:                Thu, 24 Jun 2021   Pseudo R-squ.:                  0.2844\n",
      "Time:                        12:43:48   Log-Likelihood:                -287.82\n",
      "converged:                       True   LL-Null:                       -402.18\n",
      "Covariance Type:            nonrobust   LLR p-value:                 2.473e-48\n",
      "==============================================================================\n",
      "                 coef    std err          z      P>|z|      [0.025      0.975]\n",
      "------------------------------------------------------------------------------\n",
      "const         -1.2302      0.236     -5.210      0.000      -1.693      -0.767\n",
      "employ        -0.2436      0.029     -8.456      0.000      -0.300      -0.187\n",
      "debtinc        0.0885      0.021      4.200      0.000       0.047       0.130\n",
      "creddebt       0.5041      0.083      6.094      0.000       0.342       0.666\n",
      "othdebt       -0.0040      0.053     -0.076      0.940      -0.107       0.099\n",
      "==============================================================================\n"
     ]
    }
   ],
   "source": [
    "print(result.summary())"
   ]
  },
  {
   "cell_type": "markdown",
   "id": "cbb5cbcc",
   "metadata": {},
   "source": [
    "Apabila logistic regression, yang dilihat adalah Log-likelihood, apabila linear regresi f-test\n",
    "\n",
    "### Test LLR\n",
    "* LLR p-val Juga dilihat (<0.05), maka ada cukup bukti bahwa ada salah satu dari feature yang kita pakai mempengaruhi peluang seseorang untuk gagal bayar\n",
    "\n",
    "### Partial test (Z-Test)\n",
    "* const  = p val < 0.05, kita butuh b0 untuk model ini\n",
    "* employ = p val < 0.05, ada cukup bukti bahwa employ menurunkan peluang gagal bayar\n",
    "* debtinc = p val < 0.05, ada cukup bukti bahwa debtinc menaikkan peluang gagal bayar\n",
    "* creddebt = p val < 0.05, ada cukup bukti bahwa creddebt menaikkan peluang gagal bayar\n",
    "* othdebt  = p val > 0.05, tidak ada cukup bukti bahwa othdebt memiliki pengaruh signifikan terhadap pelaung gagal bayar\n",
    "\n",
    "### Coefficient determination\n",
    "* Pseudo R-square :0.2844, artinya model ini dapat menjelaskan 28.44 % dari variance kemungkinan gagal bayar"
   ]
  },
  {
   "cell_type": "markdown",
   "id": "79827597",
   "metadata": {},
   "source": [
    "# Model Intepretation\n",
    "fitur signifikan kecual othdebt ( p>|z| = 0.94)"
   ]
  },
  {
   "cell_type": "markdown",
   "id": "ff63bb78",
   "metadata": {},
   "source": [
    "### Feature Employ"
   ]
  },
  {
   "cell_type": "code",
   "execution_count": 9,
   "id": "3fa28b35",
   "metadata": {},
   "outputs": [
    {
     "data": {
      "text/plain": [
       "1.2758338948511923"
      ]
     },
     "execution_count": 9,
     "metadata": {},
     "output_type": "execute_result"
    }
   ],
   "source": [
    "β = 0.2436\n",
    "np.exp(β)"
   ]
  },
  {
   "cell_type": "markdown",
   "id": "7b0ec34e",
   "metadata": {},
   "source": [
    "ketika employ (lama bekerja) bertambah 1 tahun dan tidak ada perubahan pada feature lain, maka peluang untuk default akan turun sebanyak 1,27 kali"
   ]
  },
  {
   "cell_type": "markdown",
   "id": "212f7219",
   "metadata": {},
   "source": [
    "### Feature Debtinc"
   ]
  },
  {
   "cell_type": "code",
   "execution_count": 10,
   "id": "d81534a9",
   "metadata": {},
   "outputs": [
    {
     "data": {
      "text/plain": [
       "1.0925342526104793"
      ]
     },
     "execution_count": 10,
     "metadata": {},
     "output_type": "execute_result"
    }
   ],
   "source": [
    "β = 0.0885\n",
    "np.exp(β)"
   ]
  },
  {
   "cell_type": "markdown",
   "id": "8e1a6ea7",
   "metadata": {},
   "source": [
    "Ketika Debtinc bertambah 1 dan tidak ada perubahan pada feature lainnya, maka peluang untuk deafult akan naik sebanyak 1.092 kali"
   ]
  },
  {
   "cell_type": "markdown",
   "id": "78fe9242",
   "metadata": {},
   "source": [
    "### Feature Creddebt"
   ]
  },
  {
   "cell_type": "code",
   "execution_count": 11,
   "id": "dbd36fbc",
   "metadata": {},
   "outputs": [
    {
     "data": {
      "text/plain": [
       "1.6554949043702933"
      ]
     },
     "execution_count": 11,
     "metadata": {},
     "output_type": "execute_result"
    }
   ],
   "source": [
    "β = 0.5041\n",
    "np.exp(β)"
   ]
  },
  {
   "cell_type": "markdown",
   "id": "c4b62498",
   "metadata": {},
   "source": [
    "Ketika creddebt bertambah 1 dan tidak ada perubahan pada feature lainnya, maka peluang untuk deafult akan naik sebanyak 1.092 kali"
   ]
  },
  {
   "cell_type": "markdown",
   "id": "35dbd6d6",
   "metadata": {},
   "source": [
    "### Feature othdebt"
   ]
  },
  {
   "cell_type": "markdown",
   "id": "579dd405",
   "metadata": {},
   "source": [
    "hasil tidak signifikan karena lebih besar dari 0.05"
   ]
  },
  {
   "cell_type": "markdown",
   "id": "77b08c84",
   "metadata": {},
   "source": [
    "# Multicollienarity"
   ]
  },
  {
   "cell_type": "code",
   "execution_count": 12,
   "id": "259148bc",
   "metadata": {},
   "outputs": [],
   "source": [
    "from statsmodels.stats.outliers_influence import variance_inflation_factor\n",
    "def calc_vif(X):\n",
    "    vif = pd.DataFrame()\n",
    "    vif['variables']=X.columns\n",
    "    vif['VIF']=[variance_inflation_factor(X.values,i) for i in range (X.shape[1])]\n",
    "    \n",
    "    return vif"
   ]
  },
  {
   "cell_type": "code",
   "execution_count": 13,
   "id": "487dc858",
   "metadata": {},
   "outputs": [
    {
     "data": {
      "text/html": [
       "<div>\n",
       "<style scoped>\n",
       "    .dataframe tbody tr th:only-of-type {\n",
       "        vertical-align: middle;\n",
       "    }\n",
       "\n",
       "    .dataframe tbody tr th {\n",
       "        vertical-align: top;\n",
       "    }\n",
       "\n",
       "    .dataframe thead th {\n",
       "        text-align: right;\n",
       "    }\n",
       "</style>\n",
       "<table border=\"1\" class=\"dataframe\">\n",
       "  <thead>\n",
       "    <tr style=\"text-align: right;\">\n",
       "      <th></th>\n",
       "      <th>variables</th>\n",
       "      <th>VIF</th>\n",
       "    </tr>\n",
       "  </thead>\n",
       "  <tbody>\n",
       "    <tr>\n",
       "      <th>0</th>\n",
       "      <td>employ</td>\n",
       "      <td>2.222753</td>\n",
       "    </tr>\n",
       "    <tr>\n",
       "      <th>1</th>\n",
       "      <td>debtinc</td>\n",
       "      <td>3.045977</td>\n",
       "    </tr>\n",
       "    <tr>\n",
       "      <th>2</th>\n",
       "      <td>creddebt</td>\n",
       "      <td>2.816577</td>\n",
       "    </tr>\n",
       "    <tr>\n",
       "      <th>3</th>\n",
       "      <td>othdebt</td>\n",
       "      <td>4.116876</td>\n",
       "    </tr>\n",
       "  </tbody>\n",
       "</table>\n",
       "</div>"
      ],
      "text/plain": [
       "  variables       VIF\n",
       "0    employ  2.222753\n",
       "1   debtinc  3.045977\n",
       "2  creddebt  2.816577\n",
       "3   othdebt  4.116876"
      ]
     },
     "execution_count": 13,
     "metadata": {},
     "output_type": "execute_result"
    }
   ],
   "source": [
    "calc_vif(x)"
   ]
  },
  {
   "cell_type": "markdown",
   "id": "440be13d",
   "metadata": {},
   "source": [
    "Hasil yang didapata dari test multicollienarity menunjukan hanya 1 yang memiliki nilai diatas 4 dari fitur fitur yang digunakan, namun untuk feature othdebt tetap bisa diterima dengan toleransi (hanya sedikit lebih)"
   ]
  },
  {
   "cell_type": "markdown",
   "id": "48c446ca",
   "metadata": {},
   "source": [
    "## <center> Validation"
   ]
  },
  {
   "cell_type": "code",
   "execution_count": 14,
   "id": "0108bb52",
   "metadata": {},
   "outputs": [],
   "source": [
    "from sklearn.model_selection import train_test_split  # Untuk split data menjadi train dan test\n",
    "from sklearn.metrics import accuracy_score"
   ]
  },
  {
   "cell_type": "code",
   "execution_count": 15,
   "id": "48c70be4",
   "metadata": {},
   "outputs": [
    {
     "data": {
      "text/plain": [
       "(     employ  debtinc   creddebt   othdebt\n",
       " 0        17      9.3  11.359392  5.008608\n",
       " 1        10     17.3   1.362202  4.000798\n",
       " 2        15      5.5   0.856075  2.168925\n",
       " 3        15      2.9   2.658720  0.821280\n",
       " 4         2     17.3   1.787436  3.056564\n",
       " ..      ...      ...        ...       ...\n",
       " 695       6      4.6   0.262062  0.979938\n",
       " 696       6     11.5   0.369495  2.045505\n",
       " 697      15      7.6   0.491264  1.940736\n",
       " 698      19      8.4   2.302608  4.165392\n",
       " 699      12     14.7   2.994684  3.473316\n",
       " \n",
       " [700 rows x 4 columns],\n",
       " 0      1\n",
       " 1      0\n",
       " 2      0\n",
       " 3      0\n",
       " 4      1\n",
       "       ..\n",
       " 695    1\n",
       " 696    0\n",
       " 697    0\n",
       " 698    0\n",
       " 699    0\n",
       " Name: default, Length: 700, dtype: int64)"
      ]
     },
     "execution_count": 15,
     "metadata": {},
     "output_type": "execute_result"
    }
   ],
   "source": [
    "(x,y)"
   ]
  },
  {
   "cell_type": "code",
   "execution_count": 16,
   "id": "e6901076",
   "metadata": {},
   "outputs": [],
   "source": [
    "x_train, x_test, y_train, y_test = train_test_split (\n",
    "    x,y,\n",
    "    stratify = y,  # agar ratio kelas di setiap subset data sama\n",
    "    test_size = 0.2, \n",
    "    random_state = 2020) # apabila tidak menggunakan random state saat acak data tidak punya patokan (pencacah)"
   ]
  },
  {
   "cell_type": "code",
   "execution_count": 17,
   "id": "5129cbae",
   "metadata": {
    "scrolled": true
   },
   "outputs": [
    {
     "data": {
      "text/plain": [
       "0    517\n",
       "1    183\n",
       "Name: default, dtype: int64"
      ]
     },
     "execution_count": 17,
     "metadata": {},
     "output_type": "execute_result"
    }
   ],
   "source": [
    "bankloan['default'].value_counts()"
   ]
  },
  {
   "cell_type": "markdown",
   "id": "dd623e4c",
   "metadata": {},
   "source": [
    "kita memiliki perbandingan 5 : 2, apabila tidak digunakan stratify akan ada kemungkinan nilai 1 di data train semua sedangkan di data test tidak ada, kalau menggunakan startify maka akan balance"
   ]
  },
  {
   "cell_type": "code",
   "execution_count": 18,
   "id": "f232ca2f",
   "metadata": {
    "scrolled": false
   },
   "outputs": [
    {
     "data": {
      "text/plain": [
       "0    414\n",
       "1    146\n",
       "Name: default, dtype: int64"
      ]
     },
     "execution_count": 18,
     "metadata": {},
     "output_type": "execute_result"
    }
   ],
   "source": [
    "y_train.value_counts()"
   ]
  },
  {
   "cell_type": "code",
   "execution_count": 19,
   "id": "10480c69",
   "metadata": {},
   "outputs": [
    {
     "data": {
      "text/plain": [
       "0    103\n",
       "1     37\n",
       "Name: default, dtype: int64"
      ]
     },
     "execution_count": 19,
     "metadata": {},
     "output_type": "execute_result"
    }
   ],
   "source": [
    "y_test.value_counts()"
   ]
  },
  {
   "cell_type": "code",
   "execution_count": 20,
   "id": "bb92ee3b",
   "metadata": {},
   "outputs": [
    {
     "name": "stdout",
     "output_type": "stream",
     "text": [
      "Optimization terminated successfully.\n",
      "         Current function value: 0.411145\n",
      "         Iterations 7\n"
     ]
    }
   ],
   "source": [
    "sm_logit_train = sm.Logit(y_train, sm.add_constant(x_train))\n",
    "result_train = sm_logit_train.fit()"
   ]
  },
  {
   "cell_type": "code",
   "execution_count": 21,
   "id": "00a8de5f",
   "metadata": {},
   "outputs": [
    {
     "data": {
      "text/plain": [
       "118    0.584807\n",
       "309    0.308932\n",
       "339    0.308407\n",
       "686    0.398796\n",
       "639    0.236440\n",
       "         ...   \n",
       "597    0.544007\n",
       "58     0.012081\n",
       "467    0.102066\n",
       "148    0.060111\n",
       "681    0.214943\n",
       "Length: 140, dtype: float64"
      ]
     },
     "execution_count": 21,
     "metadata": {},
     "output_type": "execute_result"
    }
   ],
   "source": [
    "y_predict_proba = result_train.predict(sm.add_constant(x_test))\n",
    "y_predict_proba # Probability untuk default"
   ]
  },
  {
   "cell_type": "markdown",
   "id": "c8e09f7f",
   "metadata": {},
   "source": [
    "Diubah ke bentuk kategorikal, karena target kategorikal"
   ]
  },
  {
   "cell_type": "code",
   "execution_count": 22,
   "id": "75bf462e",
   "metadata": {},
   "outputs": [],
   "source": [
    "y_predict_class=[1 if i>0.5\n",
    "                else 0 \n",
    "                for i in y_predict_proba]"
   ]
  },
  {
   "cell_type": "code",
   "execution_count": 23,
   "id": "502503fc",
   "metadata": {
    "scrolled": true
   },
   "outputs": [
    {
     "data": {
      "text/plain": [
       "[1,\n",
       " 0,\n",
       " 0,\n",
       " 0,\n",
       " 0,\n",
       " 0,\n",
       " 0,\n",
       " 0,\n",
       " 1,\n",
       " 0,\n",
       " 0,\n",
       " 0,\n",
       " 0,\n",
       " 0,\n",
       " 0,\n",
       " 0,\n",
       " 0,\n",
       " 0,\n",
       " 0,\n",
       " 1,\n",
       " 0,\n",
       " 0,\n",
       " 0,\n",
       " 0,\n",
       " 0,\n",
       " 0,\n",
       " 0,\n",
       " 0,\n",
       " 1,\n",
       " 0,\n",
       " 0,\n",
       " 1,\n",
       " 0,\n",
       " 0,\n",
       " 0,\n",
       " 0,\n",
       " 0,\n",
       " 0,\n",
       " 0,\n",
       " 0,\n",
       " 0,\n",
       " 0,\n",
       " 0,\n",
       " 0,\n",
       " 0,\n",
       " 0,\n",
       " 0,\n",
       " 0,\n",
       " 0,\n",
       " 0,\n",
       " 0,\n",
       " 0,\n",
       " 0,\n",
       " 0,\n",
       " 1,\n",
       " 1,\n",
       " 0,\n",
       " 0,\n",
       " 0,\n",
       " 0,\n",
       " 0,\n",
       " 0,\n",
       " 0,\n",
       " 0,\n",
       " 0,\n",
       " 0,\n",
       " 0,\n",
       " 0,\n",
       " 0,\n",
       " 0,\n",
       " 1,\n",
       " 1,\n",
       " 0,\n",
       " 0,\n",
       " 0,\n",
       " 0,\n",
       " 0,\n",
       " 0,\n",
       " 0,\n",
       " 1,\n",
       " 1,\n",
       " 1,\n",
       " 0,\n",
       " 0,\n",
       " 0,\n",
       " 0,\n",
       " 0,\n",
       " 0,\n",
       " 1,\n",
       " 0,\n",
       " 0,\n",
       " 0,\n",
       " 1,\n",
       " 0,\n",
       " 0,\n",
       " 0,\n",
       " 1,\n",
       " 0,\n",
       " 0,\n",
       " 0,\n",
       " 0,\n",
       " 0,\n",
       " 0,\n",
       " 0,\n",
       " 1,\n",
       " 0,\n",
       " 0,\n",
       " 0,\n",
       " 0,\n",
       " 0,\n",
       " 0,\n",
       " 0,\n",
       " 0,\n",
       " 0,\n",
       " 1,\n",
       " 0,\n",
       " 0,\n",
       " 0,\n",
       " 0,\n",
       " 0,\n",
       " 0,\n",
       " 0,\n",
       " 1,\n",
       " 0,\n",
       " 0,\n",
       " 0,\n",
       " 1,\n",
       " 0,\n",
       " 0,\n",
       " 0,\n",
       " 1,\n",
       " 0,\n",
       " 0,\n",
       " 1,\n",
       " 0,\n",
       " 1,\n",
       " 0,\n",
       " 0,\n",
       " 0,\n",
       " 0]"
      ]
     },
     "execution_count": 23,
     "metadata": {},
     "output_type": "execute_result"
    }
   ],
   "source": [
    "y_predict_class"
   ]
  },
  {
   "cell_type": "markdown",
   "id": "b2d0be17",
   "metadata": {},
   "source": [
    "# Chek akurasi score"
   ]
  },
  {
   "cell_type": "code",
   "execution_count": 24,
   "id": "1b08f826",
   "metadata": {},
   "outputs": [
    {
     "name": "stdout",
     "output_type": "stream",
     "text": [
      "model accuracy in test dataset:  0.8214285714285714\n"
     ]
    }
   ],
   "source": [
    "print('model accuracy in test dataset: ',accuracy_score(y_test,y_predict_class))"
   ]
  },
  {
   "cell_type": "markdown",
   "id": "67db2f95",
   "metadata": {},
   "source": [
    "model kita mampu memprediksi dengan benar 8 out of 10 (82%)"
   ]
  },
  {
   "cell_type": "markdown",
   "id": "73094dd4",
   "metadata": {},
   "source": [
    "# Latihan"
   ]
  },
  {
   "cell_type": "code",
   "execution_count": 25,
   "id": "9277b28d",
   "metadata": {},
   "outputs": [
    {
     "data": {
      "text/html": [
       "<div>\n",
       "<style scoped>\n",
       "    .dataframe tbody tr th:only-of-type {\n",
       "        vertical-align: middle;\n",
       "    }\n",
       "\n",
       "    .dataframe tbody tr th {\n",
       "        vertical-align: top;\n",
       "    }\n",
       "\n",
       "    .dataframe thead th {\n",
       "        text-align: right;\n",
       "    }\n",
       "</style>\n",
       "<table border=\"1\" class=\"dataframe\">\n",
       "  <thead>\n",
       "    <tr style=\"text-align: right;\">\n",
       "      <th></th>\n",
       "      <th>fixed acidity</th>\n",
       "      <th>volatile acidity</th>\n",
       "      <th>citric acid</th>\n",
       "      <th>residual sugar</th>\n",
       "      <th>chlorides</th>\n",
       "      <th>free sulfur dioxide</th>\n",
       "      <th>total sulfur dioxide</th>\n",
       "      <th>density</th>\n",
       "      <th>pH</th>\n",
       "      <th>sulphates</th>\n",
       "      <th>alcohol</th>\n",
       "      <th>quality</th>\n",
       "    </tr>\n",
       "  </thead>\n",
       "  <tbody>\n",
       "    <tr>\n",
       "      <th>0</th>\n",
       "      <td>7.0</td>\n",
       "      <td>0.27</td>\n",
       "      <td>0.36</td>\n",
       "      <td>20.7</td>\n",
       "      <td>0.045</td>\n",
       "      <td>45.0</td>\n",
       "      <td>170.0</td>\n",
       "      <td>1.0010</td>\n",
       "      <td>3.00</td>\n",
       "      <td>0.45</td>\n",
       "      <td>8.8</td>\n",
       "      <td>6.0</td>\n",
       "    </tr>\n",
       "    <tr>\n",
       "      <th>1</th>\n",
       "      <td>6.3</td>\n",
       "      <td>0.30</td>\n",
       "      <td>0.34</td>\n",
       "      <td>1.6</td>\n",
       "      <td>0.049</td>\n",
       "      <td>14.0</td>\n",
       "      <td>132.0</td>\n",
       "      <td>0.9940</td>\n",
       "      <td>3.30</td>\n",
       "      <td>0.49</td>\n",
       "      <td>9.5</td>\n",
       "      <td>6.0</td>\n",
       "    </tr>\n",
       "    <tr>\n",
       "      <th>2</th>\n",
       "      <td>8.1</td>\n",
       "      <td>0.28</td>\n",
       "      <td>0.40</td>\n",
       "      <td>6.9</td>\n",
       "      <td>0.050</td>\n",
       "      <td>30.0</td>\n",
       "      <td>97.0</td>\n",
       "      <td>0.9951</td>\n",
       "      <td>3.26</td>\n",
       "      <td>0.44</td>\n",
       "      <td>10.1</td>\n",
       "      <td>6.0</td>\n",
       "    </tr>\n",
       "    <tr>\n",
       "      <th>3</th>\n",
       "      <td>7.2</td>\n",
       "      <td>0.23</td>\n",
       "      <td>0.32</td>\n",
       "      <td>8.5</td>\n",
       "      <td>0.058</td>\n",
       "      <td>47.0</td>\n",
       "      <td>186.0</td>\n",
       "      <td>0.9956</td>\n",
       "      <td>3.19</td>\n",
       "      <td>0.40</td>\n",
       "      <td>9.9</td>\n",
       "      <td>6.0</td>\n",
       "    </tr>\n",
       "    <tr>\n",
       "      <th>4</th>\n",
       "      <td>7.2</td>\n",
       "      <td>0.23</td>\n",
       "      <td>0.32</td>\n",
       "      <td>8.5</td>\n",
       "      <td>0.058</td>\n",
       "      <td>47.0</td>\n",
       "      <td>186.0</td>\n",
       "      <td>0.9956</td>\n",
       "      <td>3.19</td>\n",
       "      <td>0.40</td>\n",
       "      <td>9.9</td>\n",
       "      <td>6.0</td>\n",
       "    </tr>\n",
       "    <tr>\n",
       "      <th>...</th>\n",
       "      <td>...</td>\n",
       "      <td>...</td>\n",
       "      <td>...</td>\n",
       "      <td>...</td>\n",
       "      <td>...</td>\n",
       "      <td>...</td>\n",
       "      <td>...</td>\n",
       "      <td>...</td>\n",
       "      <td>...</td>\n",
       "      <td>...</td>\n",
       "      <td>...</td>\n",
       "      <td>...</td>\n",
       "    </tr>\n",
       "    <tr>\n",
       "      <th>514</th>\n",
       "      <td>7.8</td>\n",
       "      <td>0.28</td>\n",
       "      <td>0.32</td>\n",
       "      <td>9.0</td>\n",
       "      <td>0.036</td>\n",
       "      <td>34.0</td>\n",
       "      <td>115.0</td>\n",
       "      <td>1.0002</td>\n",
       "      <td>3.17</td>\n",
       "      <td>0.39</td>\n",
       "      <td>10.3</td>\n",
       "      <td>7.0</td>\n",
       "    </tr>\n",
       "    <tr>\n",
       "      <th>515</th>\n",
       "      <td>6.1</td>\n",
       "      <td>0.31</td>\n",
       "      <td>0.26</td>\n",
       "      <td>2.2</td>\n",
       "      <td>0.051</td>\n",
       "      <td>28.0</td>\n",
       "      <td>167.0</td>\n",
       "      <td>0.9926</td>\n",
       "      <td>3.37</td>\n",
       "      <td>0.47</td>\n",
       "      <td>10.4</td>\n",
       "      <td>6.0</td>\n",
       "    </tr>\n",
       "    <tr>\n",
       "      <th>516</th>\n",
       "      <td>6.8</td>\n",
       "      <td>0.18</td>\n",
       "      <td>0.37</td>\n",
       "      <td>1.6</td>\n",
       "      <td>0.055</td>\n",
       "      <td>47.0</td>\n",
       "      <td>154.0</td>\n",
       "      <td>0.9934</td>\n",
       "      <td>3.08</td>\n",
       "      <td>0.45</td>\n",
       "      <td>9.1</td>\n",
       "      <td>5.0</td>\n",
       "    </tr>\n",
       "    <tr>\n",
       "      <th>517</th>\n",
       "      <td>7.4</td>\n",
       "      <td>0.15</td>\n",
       "      <td>0.42</td>\n",
       "      <td>1.7</td>\n",
       "      <td>0.045</td>\n",
       "      <td>49.0</td>\n",
       "      <td>154.0</td>\n",
       "      <td>0.9920</td>\n",
       "      <td>3.00</td>\n",
       "      <td>0.60</td>\n",
       "      <td>10.4</td>\n",
       "      <td>6.0</td>\n",
       "    </tr>\n",
       "    <tr>\n",
       "      <th>518</th>\n",
       "      <td>5.9</td>\n",
       "      <td>0.13</td>\n",
       "      <td>0.28</td>\n",
       "      <td>1.9</td>\n",
       "      <td>0.050</td>\n",
       "      <td>20.0</td>\n",
       "      <td>78.0</td>\n",
       "      <td>0.9918</td>\n",
       "      <td>3.43</td>\n",
       "      <td>0.64</td>\n",
       "      <td>10.8</td>\n",
       "      <td>6.0</td>\n",
       "    </tr>\n",
       "  </tbody>\n",
       "</table>\n",
       "<p>519 rows × 12 columns</p>\n",
       "</div>"
      ],
      "text/plain": [
       "     fixed acidity  volatile acidity  citric acid  residual sugar  chlorides  \\\n",
       "0              7.0              0.27         0.36            20.7      0.045   \n",
       "1              6.3              0.30         0.34             1.6      0.049   \n",
       "2              8.1              0.28         0.40             6.9      0.050   \n",
       "3              7.2              0.23         0.32             8.5      0.058   \n",
       "4              7.2              0.23         0.32             8.5      0.058   \n",
       "..             ...               ...          ...             ...        ...   \n",
       "514            7.8              0.28         0.32             9.0      0.036   \n",
       "515            6.1              0.31         0.26             2.2      0.051   \n",
       "516            6.8              0.18         0.37             1.6      0.055   \n",
       "517            7.4              0.15         0.42             1.7      0.045   \n",
       "518            5.9              0.13         0.28             1.9      0.050   \n",
       "\n",
       "     free sulfur dioxide  total sulfur dioxide  density    pH  sulphates  \\\n",
       "0                   45.0                 170.0   1.0010  3.00       0.45   \n",
       "1                   14.0                 132.0   0.9940  3.30       0.49   \n",
       "2                   30.0                  97.0   0.9951  3.26       0.44   \n",
       "3                   47.0                 186.0   0.9956  3.19       0.40   \n",
       "4                   47.0                 186.0   0.9956  3.19       0.40   \n",
       "..                   ...                   ...      ...   ...        ...   \n",
       "514                 34.0                 115.0   1.0002  3.17       0.39   \n",
       "515                 28.0                 167.0   0.9926  3.37       0.47   \n",
       "516                 47.0                 154.0   0.9934  3.08       0.45   \n",
       "517                 49.0                 154.0   0.9920  3.00       0.60   \n",
       "518                 20.0                  78.0   0.9918  3.43       0.64   \n",
       "\n",
       "     alcohol  quality  \n",
       "0        8.8      6.0  \n",
       "1        9.5      6.0  \n",
       "2       10.1      6.0  \n",
       "3        9.9      6.0  \n",
       "4        9.9      6.0  \n",
       "..       ...      ...  \n",
       "514     10.3      7.0  \n",
       "515     10.4      6.0  \n",
       "516      9.1      5.0  \n",
       "517     10.4      6.0  \n",
       "518     10.8      6.0  \n",
       "\n",
       "[519 rows x 12 columns]"
      ]
     },
     "execution_count": 25,
     "metadata": {},
     "output_type": "execute_result"
    }
   ],
   "source": [
    "df = pd.read_csv('white_wine.csv')\n",
    "df.dropna(inplace=True)\n",
    "df"
   ]
  },
  {
   "cell_type": "markdown",
   "id": "52c61379",
   "metadata": {},
   "source": [
    "target = quality > buat kolom target, jika quality >6 maka = 1, selain itu 0; 1 = good wine 0 = bad wine\n",
    "\n",
    "fitur = density dan alkohol\n",
    "\n",
    "tugas = Buatlah model untuk memprediksi kualitas wine dengan menggunakan log reg, lakukan validasi untuk melihat seberapa baik performa model yang dibuat"
   ]
  },
  {
   "cell_type": "code",
   "execution_count": 29,
   "id": "5f6bc0e3",
   "metadata": {},
   "outputs": [],
   "source": [
    "quality_ord=[1 if i>6\n",
    "                else 0 \n",
    "                for i in df['quality']]"
   ]
  },
  {
   "cell_type": "code",
   "execution_count": 30,
   "id": "383e508f",
   "metadata": {},
   "outputs": [],
   "source": [
    "df['quality_ord'] = quality_ord"
   ]
  },
  {
   "cell_type": "code",
   "execution_count": 31,
   "id": "ac1e4781",
   "metadata": {},
   "outputs": [],
   "source": [
    "fitur = ['density','alcohol']\n",
    "target = 'quality_ord'"
   ]
  },
  {
   "cell_type": "code",
   "execution_count": 32,
   "id": "a2318077",
   "metadata": {},
   "outputs": [],
   "source": [
    "x = df[fitur]\n",
    "y = df[target]"
   ]
  },
  {
   "cell_type": "code",
   "execution_count": 33,
   "id": "4f5b3b86",
   "metadata": {},
   "outputs": [
    {
     "name": "stdout",
     "output_type": "stream",
     "text": [
      "Optimization terminated successfully.\n",
      "         Current function value: 0.085400\n",
      "         Iterations 13\n"
     ]
    }
   ],
   "source": [
    "sm_logit = sm.Logit(y, sm.add_constant(x))\n",
    "result = sm_logit.fit()"
   ]
  },
  {
   "cell_type": "code",
   "execution_count": 34,
   "id": "ebd38a68",
   "metadata": {},
   "outputs": [
    {
     "name": "stdout",
     "output_type": "stream",
     "text": [
      "                           Logit Regression Results                           \n",
      "==============================================================================\n",
      "Dep. Variable:            quality_ord   No. Observations:                  519\n",
      "Model:                          Logit   Df Residuals:                      516\n",
      "Method:                           MLE   Df Model:                            2\n",
      "Date:                Thu, 24 Jun 2021   Pseudo R-squ.:                  0.8237\n",
      "Time:                        12:44:42   Log-Likelihood:                -44.323\n",
      "converged:                       True   LL-Null:                       -251.46\n",
      "Covariance Type:            nonrobust   LLR p-value:                 1.097e-90\n",
      "==============================================================================\n",
      "                 coef    std err          z      P>|z|      [0.025      0.975]\n",
      "------------------------------------------------------------------------------\n",
      "const      -2253.7567    328.276     -6.865      0.000   -2897.165   -1610.348\n",
      "density     2201.6603    321.421      6.850      0.000    1571.687    2831.634\n",
      "alcohol        5.6002      0.798      7.018      0.000       4.036       7.164\n",
      "==============================================================================\n",
      "\n",
      "Possibly complete quasi-separation: A fraction 0.31 of observations can be\n",
      "perfectly predicted. This might indicate that there is complete\n",
      "quasi-separation. In this case some parameters will not be identified.\n"
     ]
    }
   ],
   "source": [
    "print(result.summary())"
   ]
  },
  {
   "cell_type": "code",
   "execution_count": 35,
   "id": "1f31e88e",
   "metadata": {},
   "outputs": [],
   "source": [
    "x_train, x_test, y_train, y_test = train_test_split (\n",
    "    x,y,\n",
    "    stratify = y,  # agar ratio kelas di setiap subset data sama\n",
    "    test_size = 0.2, \n",
    "    random_state = 2020)"
   ]
  },
  {
   "cell_type": "code",
   "execution_count": 36,
   "id": "b953363a",
   "metadata": {
    "scrolled": false
   },
   "outputs": [
    {
     "name": "stdout",
     "output_type": "stream",
     "text": [
      "Optimization terminated successfully.\n",
      "         Current function value: 0.091062\n",
      "         Iterations 13\n"
     ]
    }
   ],
   "source": [
    "sm_logit_train = sm.Logit(y_train, sm.add_constant(x_train))\n",
    "result_train = sm_logit_train.fit()"
   ]
  },
  {
   "cell_type": "code",
   "execution_count": 37,
   "id": "dd0e7a7a",
   "metadata": {},
   "outputs": [
    {
     "data": {
      "text/plain": [
       "84     9.266852e-05\n",
       "486    9.096207e-07\n",
       "476    9.933057e-01\n",
       "327    1.884552e-04\n",
       "440    9.926806e-01\n",
       "           ...     \n",
       "163    9.032858e-04\n",
       "399    9.874021e-04\n",
       "166    1.613145e-02\n",
       "433    4.893133e-07\n",
       "150    9.998851e-01\n",
       "Length: 104, dtype: float64"
      ]
     },
     "execution_count": 37,
     "metadata": {},
     "output_type": "execute_result"
    }
   ],
   "source": [
    "y_predict_proba = result_train.predict(sm.add_constant(x_test))\n",
    "y_predict_proba # Probability untuk default"
   ]
  },
  {
   "cell_type": "code",
   "execution_count": 39,
   "id": "e36d9ded",
   "metadata": {},
   "outputs": [],
   "source": [
    "y_predict_class=[1 if i>0.5\n",
    "                else 0 \n",
    "                for i in y_predict_proba]"
   ]
  },
  {
   "cell_type": "code",
   "execution_count": 40,
   "id": "021f88ff",
   "metadata": {
    "scrolled": true
   },
   "outputs": [
    {
     "data": {
      "text/plain": [
       "[0,\n",
       " 0,\n",
       " 1,\n",
       " 0,\n",
       " 1,\n",
       " 1,\n",
       " 0,\n",
       " 0,\n",
       " 0,\n",
       " 0,\n",
       " 0,\n",
       " 0,\n",
       " 0,\n",
       " 0,\n",
       " 0,\n",
       " 1,\n",
       " 0,\n",
       " 0,\n",
       " 0,\n",
       " 1,\n",
       " 0,\n",
       " 0,\n",
       " 0,\n",
       " 0,\n",
       " 0,\n",
       " 1,\n",
       " 0,\n",
       " 0,\n",
       " 0,\n",
       " 1,\n",
       " 0,\n",
       " 1,\n",
       " 0,\n",
       " 0,\n",
       " 0,\n",
       " 0,\n",
       " 0,\n",
       " 0,\n",
       " 1,\n",
       " 0,\n",
       " 0,\n",
       " 0,\n",
       " 0,\n",
       " 0,\n",
       " 0,\n",
       " 0,\n",
       " 0,\n",
       " 1,\n",
       " 0,\n",
       " 1,\n",
       " 0,\n",
       " 0,\n",
       " 0,\n",
       " 1,\n",
       " 0,\n",
       " 0,\n",
       " 0,\n",
       " 0,\n",
       " 0,\n",
       " 0,\n",
       " 0,\n",
       " 0,\n",
       " 0,\n",
       " 1,\n",
       " 0,\n",
       " 0,\n",
       " 0,\n",
       " 0,\n",
       " 0,\n",
       " 0,\n",
       " 0,\n",
       " 0,\n",
       " 1,\n",
       " 0,\n",
       " 0,\n",
       " 0,\n",
       " 0,\n",
       " 0,\n",
       " 0,\n",
       " 0,\n",
       " 0,\n",
       " 0,\n",
       " 1,\n",
       " 0,\n",
       " 0,\n",
       " 0,\n",
       " 0,\n",
       " 1,\n",
       " 0,\n",
       " 0,\n",
       " 0,\n",
       " 1,\n",
       " 0,\n",
       " 0,\n",
       " 1,\n",
       " 0,\n",
       " 0,\n",
       " 0,\n",
       " 1,\n",
       " 0,\n",
       " 0,\n",
       " 0,\n",
       " 0,\n",
       " 1]"
      ]
     },
     "execution_count": 40,
     "metadata": {},
     "output_type": "execute_result"
    }
   ],
   "source": [
    "y_predict_class"
   ]
  },
  {
   "cell_type": "code",
   "execution_count": 41,
   "id": "92978c01",
   "metadata": {},
   "outputs": [
    {
     "name": "stdout",
     "output_type": "stream",
     "text": [
      "model accuracy in test dataset:  0.9807692307692307\n"
     ]
    }
   ],
   "source": [
    "print('model accuracy in test dataset: ',accuracy_score(y_test,y_predict_class))"
   ]
  },
  {
   "cell_type": "markdown",
   "id": "c35ebb1e",
   "metadata": {},
   "source": [
    "Model memiliki akurasi 98%, so good, god damn"
   ]
  },
  {
   "cell_type": "code",
   "execution_count": null,
   "id": "846e459d",
   "metadata": {},
   "outputs": [],
   "source": [
    "## Cara mudah\n",
    "df['quality_ord'] = np.where(df['quality'] >6,1,0)"
   ]
  }
 ],
 "metadata": {
  "kernelspec": {
   "display_name": "Python 3",
   "language": "python",
   "name": "python3"
  },
  "language_info": {
   "codemirror_mode": {
    "name": "ipython",
    "version": 3
   },
   "file_extension": ".py",
   "mimetype": "text/x-python",
   "name": "python",
   "nbconvert_exporter": "python",
   "pygments_lexer": "ipython3",
   "version": "3.7.10"
  }
 },
 "nbformat": 4,
 "nbformat_minor": 5
}
