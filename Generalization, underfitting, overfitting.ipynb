{
 "cells": [
  {
   "cell_type": "code",
   "execution_count": 1,
   "id": "3f28a3b6",
   "metadata": {},
   "outputs": [],
   "source": [
    "import numpy as np\n",
    "import pandas as pd\n",
    "import matplotlib.pyplot as plt\n",
    "import seaborn as sns\n",
    "\n",
    "from sklearn.model_selection import train_test_split  #Untuk split data menjadi train dan test\n",
    "from sklearn.metrics import accuracy_score, mean_squared_error            \n",
    "from sklearn.preprocessing import MinMaxScaler\n",
    "\n",
    "# Library Model yang digunakan\n",
    "from sklearn.neighbors import KNeighborsClassifier\n",
    "from sklearn.tree import DecisionTreeClassifier\n",
    "from sklearn.linear_model import LogisticRegression, LinearRegression, Lasso, Ridge\n",
    "\n",
    "import warnings\n",
    "warnings.filterwarnings(\"ignore\")\n",
    "from sklearn.utils.testing import ignore_warnings"
   ]
  },
  {
   "cell_type": "code",
   "execution_count": 2,
   "id": "078fdfb9",
   "metadata": {},
   "outputs": [
    {
     "data": {
      "text/html": [
       "<div>\n",
       "<style scoped>\n",
       "    .dataframe tbody tr th:only-of-type {\n",
       "        vertical-align: middle;\n",
       "    }\n",
       "\n",
       "    .dataframe tbody tr th {\n",
       "        vertical-align: top;\n",
       "    }\n",
       "\n",
       "    .dataframe thead th {\n",
       "        text-align: right;\n",
       "    }\n",
       "</style>\n",
       "<table border=\"1\" class=\"dataframe\">\n",
       "  <thead>\n",
       "    <tr style=\"text-align: right;\">\n",
       "      <th></th>\n",
       "      <th>age</th>\n",
       "      <th>ed</th>\n",
       "      <th>employ</th>\n",
       "      <th>address</th>\n",
       "      <th>income</th>\n",
       "      <th>debtinc</th>\n",
       "      <th>creddebt</th>\n",
       "      <th>othdebt</th>\n",
       "      <th>default</th>\n",
       "    </tr>\n",
       "  </thead>\n",
       "  <tbody>\n",
       "    <tr>\n",
       "      <th>0</th>\n",
       "      <td>41</td>\n",
       "      <td>3</td>\n",
       "      <td>17</td>\n",
       "      <td>12</td>\n",
       "      <td>176</td>\n",
       "      <td>9.3</td>\n",
       "      <td>11.359392</td>\n",
       "      <td>5.008608</td>\n",
       "      <td>1</td>\n",
       "    </tr>\n",
       "    <tr>\n",
       "      <th>1</th>\n",
       "      <td>27</td>\n",
       "      <td>1</td>\n",
       "      <td>10</td>\n",
       "      <td>6</td>\n",
       "      <td>31</td>\n",
       "      <td>17.3</td>\n",
       "      <td>1.362202</td>\n",
       "      <td>4.000798</td>\n",
       "      <td>0</td>\n",
       "    </tr>\n",
       "    <tr>\n",
       "      <th>2</th>\n",
       "      <td>40</td>\n",
       "      <td>1</td>\n",
       "      <td>15</td>\n",
       "      <td>14</td>\n",
       "      <td>55</td>\n",
       "      <td>5.5</td>\n",
       "      <td>0.856075</td>\n",
       "      <td>2.168925</td>\n",
       "      <td>0</td>\n",
       "    </tr>\n",
       "    <tr>\n",
       "      <th>3</th>\n",
       "      <td>41</td>\n",
       "      <td>1</td>\n",
       "      <td>15</td>\n",
       "      <td>14</td>\n",
       "      <td>120</td>\n",
       "      <td>2.9</td>\n",
       "      <td>2.658720</td>\n",
       "      <td>0.821280</td>\n",
       "      <td>0</td>\n",
       "    </tr>\n",
       "    <tr>\n",
       "      <th>4</th>\n",
       "      <td>24</td>\n",
       "      <td>2</td>\n",
       "      <td>2</td>\n",
       "      <td>0</td>\n",
       "      <td>28</td>\n",
       "      <td>17.3</td>\n",
       "      <td>1.787436</td>\n",
       "      <td>3.056564</td>\n",
       "      <td>1</td>\n",
       "    </tr>\n",
       "    <tr>\n",
       "      <th>...</th>\n",
       "      <td>...</td>\n",
       "      <td>...</td>\n",
       "      <td>...</td>\n",
       "      <td>...</td>\n",
       "      <td>...</td>\n",
       "      <td>...</td>\n",
       "      <td>...</td>\n",
       "      <td>...</td>\n",
       "      <td>...</td>\n",
       "    </tr>\n",
       "    <tr>\n",
       "      <th>695</th>\n",
       "      <td>36</td>\n",
       "      <td>2</td>\n",
       "      <td>6</td>\n",
       "      <td>15</td>\n",
       "      <td>27</td>\n",
       "      <td>4.6</td>\n",
       "      <td>0.262062</td>\n",
       "      <td>0.979938</td>\n",
       "      <td>1</td>\n",
       "    </tr>\n",
       "    <tr>\n",
       "      <th>696</th>\n",
       "      <td>29</td>\n",
       "      <td>2</td>\n",
       "      <td>6</td>\n",
       "      <td>4</td>\n",
       "      <td>21</td>\n",
       "      <td>11.5</td>\n",
       "      <td>0.369495</td>\n",
       "      <td>2.045505</td>\n",
       "      <td>0</td>\n",
       "    </tr>\n",
       "    <tr>\n",
       "      <th>697</th>\n",
       "      <td>33</td>\n",
       "      <td>1</td>\n",
       "      <td>15</td>\n",
       "      <td>3</td>\n",
       "      <td>32</td>\n",
       "      <td>7.6</td>\n",
       "      <td>0.491264</td>\n",
       "      <td>1.940736</td>\n",
       "      <td>0</td>\n",
       "    </tr>\n",
       "    <tr>\n",
       "      <th>698</th>\n",
       "      <td>45</td>\n",
       "      <td>1</td>\n",
       "      <td>19</td>\n",
       "      <td>22</td>\n",
       "      <td>77</td>\n",
       "      <td>8.4</td>\n",
       "      <td>2.302608</td>\n",
       "      <td>4.165392</td>\n",
       "      <td>0</td>\n",
       "    </tr>\n",
       "    <tr>\n",
       "      <th>699</th>\n",
       "      <td>37</td>\n",
       "      <td>1</td>\n",
       "      <td>12</td>\n",
       "      <td>14</td>\n",
       "      <td>44</td>\n",
       "      <td>14.7</td>\n",
       "      <td>2.994684</td>\n",
       "      <td>3.473316</td>\n",
       "      <td>0</td>\n",
       "    </tr>\n",
       "  </tbody>\n",
       "</table>\n",
       "<p>700 rows × 9 columns</p>\n",
       "</div>"
      ],
      "text/plain": [
       "     age  ed  employ  address  income  debtinc   creddebt   othdebt  default\n",
       "0     41   3      17       12     176      9.3  11.359392  5.008608        1\n",
       "1     27   1      10        6      31     17.3   1.362202  4.000798        0\n",
       "2     40   1      15       14      55      5.5   0.856075  2.168925        0\n",
       "3     41   1      15       14     120      2.9   2.658720  0.821280        0\n",
       "4     24   2       2        0      28     17.3   1.787436  3.056564        1\n",
       "..   ...  ..     ...      ...     ...      ...        ...       ...      ...\n",
       "695   36   2       6       15      27      4.6   0.262062  0.979938        1\n",
       "696   29   2       6        4      21     11.5   0.369495  2.045505        0\n",
       "697   33   1      15        3      32      7.6   0.491264  1.940736        0\n",
       "698   45   1      19       22      77      8.4   2.302608  4.165392        0\n",
       "699   37   1      12       14      44     14.7   2.994684  3.473316        0\n",
       "\n",
       "[700 rows x 9 columns]"
      ]
     },
     "execution_count": 2,
     "metadata": {},
     "output_type": "execute_result"
    }
   ],
   "source": [
    "df = pd.read_csv(\"6. Bankloan.csv\")\n",
    "df"
   ]
  },
  {
   "cell_type": "code",
   "execution_count": 3,
   "id": "3a82a098",
   "metadata": {},
   "outputs": [
    {
     "data": {
      "text/html": [
       "<div>\n",
       "<style scoped>\n",
       "    .dataframe tbody tr th:only-of-type {\n",
       "        vertical-align: middle;\n",
       "    }\n",
       "\n",
       "    .dataframe tbody tr th {\n",
       "        vertical-align: top;\n",
       "    }\n",
       "\n",
       "    .dataframe thead th {\n",
       "        text-align: right;\n",
       "    }\n",
       "</style>\n",
       "<table border=\"1\" class=\"dataframe\">\n",
       "  <thead>\n",
       "    <tr style=\"text-align: right;\">\n",
       "      <th></th>\n",
       "      <th>age</th>\n",
       "      <th>ed</th>\n",
       "      <th>employ</th>\n",
       "      <th>address</th>\n",
       "      <th>income</th>\n",
       "      <th>debtinc</th>\n",
       "      <th>creddebt</th>\n",
       "      <th>othdebt</th>\n",
       "      <th>default</th>\n",
       "    </tr>\n",
       "  </thead>\n",
       "  <tbody>\n",
       "    <tr>\n",
       "      <th>count</th>\n",
       "      <td>700.000000</td>\n",
       "      <td>700.000000</td>\n",
       "      <td>700.000000</td>\n",
       "      <td>700.000000</td>\n",
       "      <td>700.000000</td>\n",
       "      <td>700.000000</td>\n",
       "      <td>700.000000</td>\n",
       "      <td>700.000000</td>\n",
       "      <td>700.000000</td>\n",
       "    </tr>\n",
       "    <tr>\n",
       "      <th>mean</th>\n",
       "      <td>34.860000</td>\n",
       "      <td>1.722857</td>\n",
       "      <td>8.388571</td>\n",
       "      <td>8.278571</td>\n",
       "      <td>45.601429</td>\n",
       "      <td>10.260571</td>\n",
       "      <td>1.553553</td>\n",
       "      <td>3.058209</td>\n",
       "      <td>0.261429</td>\n",
       "    </tr>\n",
       "    <tr>\n",
       "      <th>std</th>\n",
       "      <td>7.997342</td>\n",
       "      <td>0.928206</td>\n",
       "      <td>6.658039</td>\n",
       "      <td>6.824877</td>\n",
       "      <td>36.814226</td>\n",
       "      <td>6.827234</td>\n",
       "      <td>2.117197</td>\n",
       "      <td>3.287555</td>\n",
       "      <td>0.439727</td>\n",
       "    </tr>\n",
       "    <tr>\n",
       "      <th>min</th>\n",
       "      <td>20.000000</td>\n",
       "      <td>1.000000</td>\n",
       "      <td>0.000000</td>\n",
       "      <td>0.000000</td>\n",
       "      <td>14.000000</td>\n",
       "      <td>0.400000</td>\n",
       "      <td>0.011696</td>\n",
       "      <td>0.045584</td>\n",
       "      <td>0.000000</td>\n",
       "    </tr>\n",
       "    <tr>\n",
       "      <th>25%</th>\n",
       "      <td>29.000000</td>\n",
       "      <td>1.000000</td>\n",
       "      <td>3.000000</td>\n",
       "      <td>3.000000</td>\n",
       "      <td>24.000000</td>\n",
       "      <td>5.000000</td>\n",
       "      <td>0.369059</td>\n",
       "      <td>1.044178</td>\n",
       "      <td>0.000000</td>\n",
       "    </tr>\n",
       "    <tr>\n",
       "      <th>50%</th>\n",
       "      <td>34.000000</td>\n",
       "      <td>1.000000</td>\n",
       "      <td>7.000000</td>\n",
       "      <td>7.000000</td>\n",
       "      <td>34.000000</td>\n",
       "      <td>8.600000</td>\n",
       "      <td>0.854869</td>\n",
       "      <td>1.987567</td>\n",
       "      <td>0.000000</td>\n",
       "    </tr>\n",
       "    <tr>\n",
       "      <th>75%</th>\n",
       "      <td>40.000000</td>\n",
       "      <td>2.000000</td>\n",
       "      <td>12.000000</td>\n",
       "      <td>12.000000</td>\n",
       "      <td>55.000000</td>\n",
       "      <td>14.125000</td>\n",
       "      <td>1.901955</td>\n",
       "      <td>3.923065</td>\n",
       "      <td>1.000000</td>\n",
       "    </tr>\n",
       "    <tr>\n",
       "      <th>max</th>\n",
       "      <td>56.000000</td>\n",
       "      <td>5.000000</td>\n",
       "      <td>31.000000</td>\n",
       "      <td>34.000000</td>\n",
       "      <td>446.000000</td>\n",
       "      <td>41.300000</td>\n",
       "      <td>20.561310</td>\n",
       "      <td>27.033600</td>\n",
       "      <td>1.000000</td>\n",
       "    </tr>\n",
       "  </tbody>\n",
       "</table>\n",
       "</div>"
      ],
      "text/plain": [
       "              age          ed      employ     address      income     debtinc  \\\n",
       "count  700.000000  700.000000  700.000000  700.000000  700.000000  700.000000   \n",
       "mean    34.860000    1.722857    8.388571    8.278571   45.601429   10.260571   \n",
       "std      7.997342    0.928206    6.658039    6.824877   36.814226    6.827234   \n",
       "min     20.000000    1.000000    0.000000    0.000000   14.000000    0.400000   \n",
       "25%     29.000000    1.000000    3.000000    3.000000   24.000000    5.000000   \n",
       "50%     34.000000    1.000000    7.000000    7.000000   34.000000    8.600000   \n",
       "75%     40.000000    2.000000   12.000000   12.000000   55.000000   14.125000   \n",
       "max     56.000000    5.000000   31.000000   34.000000  446.000000   41.300000   \n",
       "\n",
       "         creddebt     othdebt     default  \n",
       "count  700.000000  700.000000  700.000000  \n",
       "mean     1.553553    3.058209    0.261429  \n",
       "std      2.117197    3.287555    0.439727  \n",
       "min      0.011696    0.045584    0.000000  \n",
       "25%      0.369059    1.044178    0.000000  \n",
       "50%      0.854869    1.987567    0.000000  \n",
       "75%      1.901955    3.923065    1.000000  \n",
       "max     20.561310   27.033600    1.000000  "
      ]
     },
     "execution_count": 3,
     "metadata": {},
     "output_type": "execute_result"
    }
   ],
   "source": [
    "df.describe()"
   ]
  },
  {
   "cell_type": "markdown",
   "id": "60649a2f",
   "metadata": {},
   "source": [
    "## Data Splitting"
   ]
  },
  {
   "cell_type": "code",
   "execution_count": 4,
   "id": "d0ba1170",
   "metadata": {},
   "outputs": [],
   "source": [
    "X = df[['employ','debtinc','creddebt','othdebt']]\n",
    "y = df['default']"
   ]
  },
  {
   "cell_type": "code",
   "execution_count": 5,
   "id": "0cab5e57",
   "metadata": {},
   "outputs": [],
   "source": [
    "X_train,X_test,y_train,y_test = train_test_split(\n",
    "    X,y,\n",
    "    stratify=y,\n",
    "    test_size = 0.2,\n",
    "    random_state = 2020)"
   ]
  },
  {
   "cell_type": "markdown",
   "id": "ae638a93",
   "metadata": {},
   "source": [
    "## Data Scaling"
   ]
  },
  {
   "cell_type": "code",
   "execution_count": 6,
   "id": "16514dae",
   "metadata": {},
   "outputs": [],
   "source": [
    "scaler = MinMaxScaler()\n",
    "scaler.fit(X_train)\n",
    "X_train_scaled = scaler.transform(X_train)\n",
    "X_test_scaled = scaler.transform(X_test)"
   ]
  },
  {
   "cell_type": "markdown",
   "id": "f4fc822d",
   "metadata": {},
   "source": [
    "## Select Best K"
   ]
  },
  {
   "cell_type": "code",
   "execution_count": 11,
   "id": "f5f58096",
   "metadata": {},
   "outputs": [],
   "source": [
    "k = range (1,100,2)\n",
    "testing_accuracy = []\n",
    "training_accuracy = []\n",
    "score = 0\n",
    "\n",
    "for i in k :\n",
    "    knn = KNeighborsClassifier(n_neighbors = i)\n",
    "    knn.fit(X_train_scaled,y_train)\n",
    "    \n",
    "    y_predict_train = knn.predict(X_train_scaled)\n",
    "    training_accuracy.append(accuracy_score(y_train,y_predict_train))\n",
    "    \n",
    "    y_predict_test = knn.predict(X_test_scaled)\n",
    "    acc_score = accuracy_score(y_test,y_predict_test)\n",
    "    testing_accuracy.append(acc_score)\n",
    "    \n",
    "    if score<acc_score:\n",
    "        score = acc_score\n",
    "        best_k = i"
   ]
  },
  {
   "cell_type": "code",
   "execution_count": 12,
   "id": "ebea32c2",
   "metadata": {},
   "outputs": [],
   "source": [
    "## Plotting"
   ]
  },
  {
   "cell_type": "code",
   "execution_count": 15,
   "id": "3d6240c3",
   "metadata": {},
   "outputs": [
    {
     "data": {
      "image/png": "[encoded data removed]",
      "text/plain": [
       "<Figure size 1080x504 with 1 Axes>"
      ]
     },
     "metadata": {
      "needs_background": "light"
     },
     "output_type": "display_data"
    }
   ],
   "source": [
    "plt.figure(figsize=(15,7))\n",
    "sns.lineplot(k,testing_accuracy)\n",
    "sns.scatterplot(k,testing_accuracy)\n",
    "\n",
    "sns.lineplot(k,training_accuracy)\n",
    "sns.scatterplot(k,training_accuracy)\n",
    "\n",
    "plt.legend(['testing','training'])\n",
    "plt.show()"
   ]
  },
  {
   "cell_type": "markdown",
   "id": "282710a2",
   "metadata": {},
   "source": [
    "Training good, testing poor = overfitting"
   ]
  },
  {
   "cell_type": "code",
   "execution_count": 21,
   "id": "0f4d2ad1",
   "metadata": {},
   "outputs": [
    {
     "name": "stdout",
     "output_type": "stream",
     "text": [
      "best k = 31,\n",
      "best score = 0.8285714285714286\n"
     ]
    }
   ],
   "source": [
    "print(f'best k = {best_k},\\nbest score = {score}')"
   ]
  },
  {
   "cell_type": "markdown",
   "id": "f9a5b3cd",
   "metadata": {},
   "source": [
    "## Kesimpulan\n",
    "* best k = 31\n",
    "* best score = 82,85%\n",
    "* untuk k = 1, training set pada mode knn akurasi 100%, tetapi memiliki testing score yang rendah (OVERFITTING)\n",
    "* pada k < 31 ada kecenderungan model untuk OVERFITTING, sedangkan pada k > 31 ada kecenderungan UNDERFITTING (nilai akurasi testing dan training menurun)"
   ]
  },
  {
   "cell_type": "markdown",
   "id": "93e9d309",
   "metadata": {},
   "source": [
    "# Model Complexity : Decision Tree Classifier"
   ]
  },
  {
   "cell_type": "markdown",
   "id": "b71bc288",
   "metadata": {},
   "source": [
    "## Decision Tree Classifier"
   ]
  },
  {
   "cell_type": "code",
   "execution_count": 55,
   "id": "75bf1b64",
   "metadata": {},
   "outputs": [],
   "source": [
    "depth = range (1,25)\n",
    "testing_accuracy = []\n",
    "training_accuracy = []\n",
    "score = 0\n",
    "\n",
    "for i in depth :\n",
    "    dtc = DecisionTreeClassifier(criterion='entropy',max_depth = i)\n",
    "    dtc.fit(X_train,y_train)\n",
    "    \n",
    "    y_predict_train = dtc.predict(X_train)\n",
    "    training_accuracy.append(accuracy_score(y_train,y_predict_train))\n",
    "    \n",
    "    y_predict_test = dtc.predict(X_test)\n",
    "    acc_score = accuracy_score(y_test,y_predict_test)\n",
    "    testing_accuracy.append(acc_score)\n",
    "    \n",
    "    if score<acc_score:\n",
    "        score = acc_score\n",
    "        best_depth = i"
   ]
  },
  {
   "cell_type": "code",
   "execution_count": 56,
   "id": "f1c1d0f7",
   "metadata": {},
   "outputs": [
    {
     "data": {
      "image/png": "[encoded data removed]",
      "text/plain": [
       "<Figure size 720x504 with 1 Axes>"
      ]
     },
     "metadata": {
      "needs_background": "light"
     },
     "output_type": "display_data"
    }
   ],
   "source": [
    "plt.figure(figsize=(10,7))\n",
    "sns.lineplot(depth,testing_accuracy)\n",
    "sns.scatterplot(depth,testing_accuracy)\n",
    "\n",
    "sns.lineplot(depth,training_accuracy)\n",
    "sns.scatterplot(depth,training_accuracy)\n",
    "\n",
    "plt.legend(['testing','training'])\n",
    "plt.show()"
   ]
  },
  {
   "cell_type": "code",
   "execution_count": 93,
   "id": "f094cd78",
   "metadata": {},
   "outputs": [
    {
     "name": "stdout",
     "output_type": "stream",
     "text": [
      "best k = 31\n",
      "best depth = 24\n",
      "best score = 78.57142857142857\n"
     ]
    }
   ],
   "source": [
    "print(f'best k = {best_k}\\nbest depth = {best_depth}\\nbest score = {score*100}')"
   ]
  },
  {
   "cell_type": "markdown",
   "id": "90add608",
   "metadata": {},
   "source": [
    "## Kesimpulan\n",
    "* semakin besar depth semakin overfitting karena terlalu spesifik\n",
    "* depth <8 underfitting, >8 overfitting\n",
    "* depth terbaik = 8, dengan nilai akurasi 78,57%"
   ]
  },
  {
   "cell_type": "markdown",
   "id": "ab504ad9",
   "metadata": {},
   "source": [
    "Try with another parameter\n",
    "* min sample split = 2-200\n",
    "* min smale leaf = 1-200\n",
    "* tentukan nilai parameter terbaik, dan pada nilai parameter mana terjadi overfitting atau underfitting"
   ]
  },
  {
   "cell_type": "code",
   "execution_count": 76,
   "id": "b1599bdc",
   "metadata": {},
   "outputs": [],
   "source": [
    "split = range (2,200)\n",
    "testing_accuracy = []\n",
    "training_accuracy = []\n",
    "score = 0\n",
    "  \n",
    "for j in split :\n",
    "    dtc = DecisionTreeClassifier(criterion='entropy',max_depth = i,min_samples_split = j)\n",
    "    dtc.fit(X_train,y_train)\n",
    "    \n",
    "    y_predict_train = dtc.predict(X_train)\n",
    "    training_accuracy.append(accuracy_score(y_train,y_predict_train))\n",
    "    \n",
    "    y_predict_test = dtc.predict(X_test)\n",
    "    acc_score = accuracy_score(y_test,y_predict_test)\n",
    "    testing_accuracy.append(acc_score)\n",
    "\n",
    "    \n",
    "    if score<acc_score:\n",
    "        score = acc_score\n",
    "        best_split = j"
   ]
  },
  {
   "cell_type": "code",
   "execution_count": 97,
   "id": "7cb50b6a",
   "metadata": {},
   "outputs": [
    {
     "data": {
      "image/png": "[encoded data removed]",
      "text/plain": [
       "<Figure size 1800x720 with 1 Axes>"
      ]
     },
     "metadata": {
      "needs_background": "light"
     },
     "output_type": "display_data"
    }
   ],
   "source": [
    "plt.figure(figsize=(25,10))\n",
    "sns.lineplot(split,testing_accuracy)\n",
    "sns.scatterplot(split,testing_accuracy)\n",
    "\n",
    "sns.lineplot(split,training_accuracy)\n",
    "sns.scatterplot(split,training_accuracy)\n",
    "\n",
    "plt.legend(['testing','training'])\n",
    "plt.show()"
   ]
  },
  {
   "cell_type": "code",
   "execution_count": 94,
   "id": "0ae72b0c",
   "metadata": {},
   "outputs": [
    {
     "name": "stdout",
     "output_type": "stream",
     "text": [
      "best k = 31\n",
      "best split = 68\n",
      "best score = 78.57142857142857\n"
     ]
    }
   ],
   "source": [
    "print(f'best k = {best_k}\\nbest split = {best_split}\\nbest score = {score*100}')"
   ]
  },
  {
   "cell_type": "markdown",
   "id": "a5c53db5",
   "metadata": {},
   "source": [
    "## Kesimpulan\n",
    "* semakin besar depth semakin overfitting karena terlalu spesifik\n",
    "* depth <68 overfitting, >68 underfitting \n",
    "* split terbaik = 68, dengan nilai akurasi 78,57%"
   ]
  },
  {
   "cell_type": "code",
   "execution_count": 87,
   "id": "2e06a39f",
   "metadata": {},
   "outputs": [],
   "source": [
    "leaf = range (2,200)\n",
    "testing_accuracy = []\n",
    "training_accuracy = []\n",
    "score = 0\n",
    "  \n",
    "for k in split :\n",
    "    dtc = DecisionTreeClassifier(criterion='entropy',min_samples_leaf = k)\n",
    "    dtc.fit(X_train,y_train)\n",
    "    \n",
    "    y_predict_train = dtc.predict(X_train)\n",
    "    training_accuracy.append(accuracy_score(y_train,y_predict_train))\n",
    "    \n",
    "    y_predict_test = dtc.predict(X_test)\n",
    "    acc_score = accuracy_score(y_test,y_predict_test)\n",
    "    testing_accuracy.append(acc_score)\n",
    "\n",
    "    \n",
    "    if score<acc_score:\n",
    "        score = acc_score\n",
    "        best_leaf = k"
   ]
  },
  {
   "cell_type": "code",
   "execution_count": 88,
   "id": "5ae9a5ea",
   "metadata": {},
   "outputs": [
    {
     "data": {
      "image/png": "[encoded data removed]",
      "text/plain": [
       "<Figure size 720x504 with 1 Axes>"
      ]
     },
     "metadata": {
      "needs_background": "light"
     },
     "output_type": "display_data"
    }
   ],
   "source": [
    "plt.figure(figsize=(10,7))\n",
    "sns.lineplot(leaf,testing_accuracy)\n",
    "sns.scatterplot(leaf,testing_accuracy)\n",
    "\n",
    "sns.lineplot(leaf,training_accuracy)\n",
    "sns.scatterplot(leaf,training_accuracy)\n",
    "\n",
    "plt.legend(['testing','training'])\n",
    "plt.show()"
   ]
  },
  {
   "cell_type": "code",
   "execution_count": 89,
   "id": "3f8c4e11",
   "metadata": {},
   "outputs": [
    {
     "name": "stdout",
     "output_type": "stream",
     "text": [
      "best leaf = 9\n",
      "best score = 78.57142857142857\n"
     ]
    }
   ],
   "source": [
    "print(f'best leaf = {best_leaf}\\nbest score = {score*100}')"
   ]
  },
  {
   "cell_type": "markdown",
   "id": "7f2fcd98",
   "metadata": {},
   "source": [
    "## Kesimpulan\n",
    "* semakin besar depth semakin overfitting karena terlalu spesifik\n",
    "* leaf <9 overfitting, >9 underfitting \n",
    "* leaf terbaik = 9, dengan nilai akurasi 78,57%"
   ]
  },
  {
   "cell_type": "markdown",
   "id": "9a1d832b",
   "metadata": {},
   "source": [
    "## <center> Tugas\n",
    "* Pahami cara kerja parameter min samples split dan min samples leaf\n",
    "> * Min samples split = memberikan batasan pada percabangan data (semakin besar nilai semakin sedikit percabangan)\n",
    "> * Min samples leaf  = memberikan batasan pada hasil percabangan data (nilai setelah dibagi) \n",
    "* Kenapa ketika nilai parameter split rendah terjadi overfitting\n",
    ">* karena percabangan terlalu kompleks\n",
    "* Kenapa ketika nilai parameter leaf rendah terjadi overfitting\n",
    ">* karena percabangan terlalu kompleks"
   ]
  },
  {
   "cell_type": "markdown",
   "id": "2702a5cc",
   "metadata": {},
   "source": [
    "# <center> Generalization in Linear Model"
   ]
  },
  {
   "cell_type": "code",
   "execution_count": null,
   "id": "f172345e",
   "metadata": {},
   "outputs": [],
   "source": []
  }
 ],
 "metadata": {
  "kernelspec": {
   "display_name": "Python 3",
   "language": "python",
   "name": "python3"
  },
  "language_info": {
   "codemirror_mode": {
    "name": "ipython",
    "version": 3
   },
   "file_extension": ".py",
   "mimetype": "text/x-python",
   "name": "python",
   "nbconvert_exporter": "python",
   "pygments_lexer": "ipython3",
   "version": "3.7.10"
  }
 },
 "nbformat": 4,
 "nbformat_minor": 5
}
